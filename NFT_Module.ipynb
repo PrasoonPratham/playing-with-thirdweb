{
 "cells": [
  {
   "cell_type": "code",
   "execution_count": 1,
   "metadata": {},
   "outputs": [],
   "source": [
    "# Importing stuff\n",
    "from thirdweb import ThirdwebSdk, SdkOptions, ListArg, MintArg\n",
    "import os"
   ]
  },
  {
   "cell_type": "code",
   "execution_count": 2,
   "metadata": {},
   "outputs": [],
   "source": [
    "#choose your network\n",
    "\n",
    "network = \"https://rinkeby-light.eth.linkpool.io/\"\n",
    "sdk = ThirdwebSdk(SdkOptions(), network)\n",
    "#dont forget to hide your private key\n",
    "sdk.set_private_key(\"a0064ca30a15d338590d95fc7d1e87f889d11fe31897340b391674e84d49f1ee\")"
   ]
  },
  {
   "cell_type": "code",
   "execution_count": 3,
   "metadata": {},
   "outputs": [],
   "source": [
    "#pick your module and enter the smart contract address\n",
    "nft_smart_contract_address = \"0xdd25FAEE772FbB1bcB7ba0b2cEE6387A8F82f032\"\n",
    "nft_module = sdk.get_nft_module(nft_smart_contract_address)"
   ]
  },
  {
   "cell_type": "code",
   "execution_count": 4,
   "metadata": {},
   "outputs": [
    {
     "name": "stdout",
     "output_type": "stream",
     "text": [
      "9\n"
     ]
    }
   ],
   "source": [
    "#This method prints out the balance of your nft smartcontract\n",
    "#The amount returend is the amount of nft's that this contract is holding!\n",
    "print(nft_module.balance())"
   ]
  },
  {
   "cell_type": "code",
   "execution_count": 5,
   "metadata": {},
   "outputs": [
    {
     "name": "stdout",
     "output_type": "stream",
     "text": [
      "9\n"
     ]
    }
   ],
   "source": [
    "#this function requires the wallet address\n",
    "print(nft_module.balance_of('0x55c9bbb71a5cc11c2f0c40362bb691b33a78b764'))"
   ]
  },
  {
   "cell_type": "code",
   "execution_count": 6,
   "metadata": {},
   "outputs": [],
   "source": [
    "#burn a given token ID// deletes everything in the dashboard inside the module.\n",
    "#nft_module.burn(1)"
   ]
  },
  {
   "cell_type": "code",
   "execution_count": 7,
   "metadata": {},
   "outputs": [
    {
     "name": "stdout",
     "output_type": "stream",
     "text": [
      "NftMetadata(name='nft2', description='testingtesying', image='ipfs://bafkreibey43a7wvedzcbbspp42fwgwcbriy475vclqgkwbkn7bjbfuulzq', properties={'bgcolor': 'black'}, id=2, uri='ipfs://bafkreieysy3g52oglgjd3t2uwnsllhozsz2skleiyahc3ev3sbkzspid7y')\n"
     ]
    }
   ],
   "source": [
    "#get the metadata of an nft, such as name, description, image uri, properties\n",
    "\n",
    "print(nft_module.get(2))"
   ]
  },
  {
   "cell_type": "code",
   "execution_count": 8,
   "metadata": {},
   "outputs": [
    {
     "name": "stdout",
     "output_type": "stream",
     "text": [
      "[NftMetadata(name='nft1', description='', image='ipfs://bafkreidfkouid6zgubjjvv6hgxjv4srxqadtqmr3vwyyhparg77235maqy', properties={}, id=0, uri='ipfs://bafkreibohcs6a5qdqtrhs4aayxex53m4ljgbey4m2wtdzk4wgxcsr3m3oq'), NftMetadata(name='new nft!', description='NFT EXAMPLE', image='ipfs://QmdFeKxt6FJUNvaGgzYuYNRbpNWyHxP2PFzjsgPf1eD2Jf', properties={}, id=1, uri='ipfs://bafkreieupzdaoflb43aexdsmhsd26i33272dt7iwm7qfqleq5bz7n2vrqa'), NftMetadata(name='nft2', description='testingtesying', image='ipfs://bafkreibey43a7wvedzcbbspp42fwgwcbriy475vclqgkwbkn7bjbfuulzq', properties={'bgcolor': 'black'}, id=2, uri='ipfs://bafkreieysy3g52oglgjd3t2uwnsllhozsz2skleiyahc3ev3sbkzspid7y'), NftMetadata(name='new nft!', description='NFT EXAMPLE', image='ipfs://QmdFeKxt6FJUNvaGgzYuYNRbpNWyHxP2PFzjsgPf1eD2Jf', properties={}, id=3, uri='ipfs://bafkreieupzdaoflb43aexdsmhsd26i33272dt7iwm7qfqleq5bz7n2vrqa'), NftMetadata(name='new nft!', description='NFT EXAMPLE', image='ipfs://QmdFeKxt6FJUNvaGgzYuYNRbpNWyHxP2PFzjsgPf1eD2Jf', properties={}, id=4, uri='ipfs://bafkreieupzdaoflb43aexdsmhsd26i33272dt7iwm7qfqleq5bz7n2vrqa'), NftMetadata(name='new nft!', description='NFT EXAMPLE', image='ipfs://QmdFeKxt6FJUNvaGgzYuYNRbpNWyHxP2PFzjsgPf1eD2Jf', properties={}, id=5, uri='ipfs://bafkreieupzdaoflb43aexdsmhsd26i33272dt7iwm7qfqleq5bz7n2vrqa'), NftMetadata(name='new nft!', description='NFT EXAMPLE', image='ipfs://QmdFeKxt6FJUNvaGgzYuYNRbpNWyHxP2PFzjsgPf1eD2Jf', properties={}, id=6, uri='ipfs://bafkreieupzdaoflb43aexdsmhsd26i33272dt7iwm7qfqleq5bz7n2vrqa'), NftMetadata(name='new nft!', description='NFT EXAMPLE', image='ipfs://QmdFeKxt6FJUNvaGgzYuYNRbpNWyHxP2PFzjsgPf1eD2Jf', properties={}, id=7, uri='ipfs://bafkreieupzdaoflb43aexdsmhsd26i33272dt7iwm7qfqleq5bz7n2vrqa'), NftMetadata(name='new nft!', description='NFT EXAMPLE', image='', properties={}, id=8, uri='ipfs://bafkreibmf6eyxpv2f4dwavkx2aykk5j3dg2fikemaxg3yqx4tzcsucwtm4'), NftMetadata(name='new nft!', description='NFT EXAMPLE', image=None, properties={}, id=9, uri='ipfs://bafkreigceqcyfucoya4eapngzduxw5qqjhiqwq264uabygbpbxr2nam4u4')]\n"
     ]
    }
   ],
   "source": [
    "#get the metadata for all nfts\n",
    "print(nft_module.get_all())"
   ]
  },
  {
   "cell_type": "code",
   "execution_count": 9,
   "metadata": {},
   "outputs": [
    {
     "name": "stdout",
     "output_type": "stream",
     "text": [
      "[NftMetadata(name='new nft!', description='NFT EXAMPLE', image='ipfs://QmdFeKxt6FJUNvaGgzYuYNRbpNWyHxP2PFzjsgPf1eD2Jf', properties={}, id=7, uri='ipfs://bafkreieupzdaoflb43aexdsmhsd26i33272dt7iwm7qfqleq5bz7n2vrqa'), NftMetadata(name='new nft!', description='NFT EXAMPLE', image='ipfs://QmdFeKxt6FJUNvaGgzYuYNRbpNWyHxP2PFzjsgPf1eD2Jf', properties={}, id=1, uri='ipfs://bafkreieupzdaoflb43aexdsmhsd26i33272dt7iwm7qfqleq5bz7n2vrqa'), NftMetadata(name='new nft!', description='NFT EXAMPLE', image='ipfs://QmdFeKxt6FJUNvaGgzYuYNRbpNWyHxP2PFzjsgPf1eD2Jf', properties={}, id=6, uri='ipfs://bafkreieupzdaoflb43aexdsmhsd26i33272dt7iwm7qfqleq5bz7n2vrqa'), NftMetadata(name='new nft!', description='NFT EXAMPLE', image='ipfs://QmdFeKxt6FJUNvaGgzYuYNRbpNWyHxP2PFzjsgPf1eD2Jf', properties={}, id=3, uri='ipfs://bafkreieupzdaoflb43aexdsmhsd26i33272dt7iwm7qfqleq5bz7n2vrqa'), NftMetadata(name='new nft!', description='NFT EXAMPLE', image='ipfs://QmdFeKxt6FJUNvaGgzYuYNRbpNWyHxP2PFzjsgPf1eD2Jf', properties={}, id=4, uri='ipfs://bafkreieupzdaoflb43aexdsmhsd26i33272dt7iwm7qfqleq5bz7n2vrqa'), NftMetadata(name='new nft!', description='NFT EXAMPLE', image='ipfs://QmdFeKxt6FJUNvaGgzYuYNRbpNWyHxP2PFzjsgPf1eD2Jf', properties={}, id=5, uri='ipfs://bafkreieupzdaoflb43aexdsmhsd26i33272dt7iwm7qfqleq5bz7n2vrqa'), NftMetadata(name='nft2', description='testingtesying', image='ipfs://bafkreibey43a7wvedzcbbspp42fwgwcbriy475vclqgkwbkn7bjbfuulzq', properties={'bgcolor': 'black'}, id=2, uri='ipfs://bafkreieysy3g52oglgjd3t2uwnsllhozsz2skleiyahc3ev3sbkzspid7y'), NftMetadata(name='new nft!', description='NFT EXAMPLE', image='', properties={}, id=8, uri='ipfs://bafkreibmf6eyxpv2f4dwavkx2aykk5j3dg2fikemaxg3yqx4tzcsucwtm4'), NftMetadata(name='new nft!', description='NFT EXAMPLE', image=None, properties={}, id=9, uri='ipfs://bafkreigceqcyfucoya4eapngzduxw5qqjhiqwq264uabygbpbxr2nam4u4')]\n"
     ]
    }
   ],
   "source": [
    "#who's the owner of an nft. \n",
    "\n",
    "print(nft_module.get_owned())"
   ]
  },
  {
   "cell_type": "code",
   "execution_count": 60,
   "metadata": {},
   "outputs": [
    {
     "ename": "TypeError",
     "evalue": "unhashable type: 'NftMetadata'",
     "output_type": "error",
     "traceback": [
      "\u001b[1;31m---------------------------------------------------------------------------\u001b[0m",
      "\u001b[1;31mTypeError\u001b[0m                                 Traceback (most recent call last)",
      "\u001b[1;32m~\\AppData\\Local\\Temp/ipykernel_2408/1372050338.py\u001b[0m in \u001b[0;36m<module>\u001b[1;34m\u001b[0m\n\u001b[0;32m      1\u001b[0m \u001b[1;31m#Returns the NFT with the given token id and owner\u001b[0m\u001b[1;33m\u001b[0m\u001b[1;33m\u001b[0m\u001b[1;33m\u001b[0m\u001b[0m\n\u001b[0;32m      2\u001b[0m \u001b[1;33m\u001b[0m\u001b[0m\n\u001b[1;32m----> 3\u001b[1;33m \u001b[0mprint\u001b[0m\u001b[1;33m(\u001b[0m\u001b[0mnft_module\u001b[0m\u001b[1;33m.\u001b[0m\u001b[0mget_with_owner\u001b[0m\u001b[1;33m(\u001b[0m\u001b[1;36m2\u001b[0m\u001b[1;33m,\u001b[0m\u001b[1;34m'0x55c9bbb71a5cc11c2f0c40362bb691b33a78b764'\u001b[0m\u001b[1;33m)\u001b[0m\u001b[1;33m)\u001b[0m\u001b[1;33m\u001b[0m\u001b[1;33m\u001b[0m\u001b[0m\n\u001b[0m",
      "\u001b[1;32mE:\\Anaconda\\envs\\web3\\lib\\site-packages\\nftlabs\\modules\\nft.py\u001b[0m in \u001b[0;36mget_with_owner\u001b[1;34m(self, token_id, owner)\u001b[0m\n\u001b[0;32m    263\u001b[0m         \u001b[0mowner\u001b[0m \u001b[1;33m=\u001b[0m \u001b[0mself\u001b[0m\u001b[1;33m.\u001b[0m\u001b[0mowner_of\u001b[0m\u001b[1;33m(\u001b[0m\u001b[0mtoken_id\u001b[0m\u001b[1;33m)\u001b[0m\u001b[1;33m\u001b[0m\u001b[1;33m\u001b[0m\u001b[0m\n\u001b[0;32m    264\u001b[0m         \u001b[0mmeta\u001b[0m \u001b[1;33m=\u001b[0m \u001b[0mself\u001b[0m\u001b[1;33m.\u001b[0m\u001b[0mget_metadata\u001b[0m\u001b[1;33m(\u001b[0m\u001b[0mtoken_id\u001b[0m\u001b[1;33m)\u001b[0m\u001b[1;33m\u001b[0m\u001b[1;33m\u001b[0m\u001b[0m\n\u001b[1;32m--> 265\u001b[1;33m         return {\n\u001b[0m\u001b[0;32m    266\u001b[0m             \u001b[0mowner\u001b[0m\u001b[1;33m:\u001b[0m \u001b[0mowner\u001b[0m\u001b[1;33m,\u001b[0m\u001b[1;33m\u001b[0m\u001b[1;33m\u001b[0m\u001b[0m\n\u001b[0;32m    267\u001b[0m             \u001b[0mmeta\u001b[0m\u001b[1;33m:\u001b[0m \u001b[0mmeta\u001b[0m\u001b[1;33m\u001b[0m\u001b[1;33m\u001b[0m\u001b[0m\n",
      "\u001b[1;31mTypeError\u001b[0m: unhashable type: 'NftMetadata'"
     ]
    }
   ],
   "source": [
    "#Returns the NFT with the given token id and owner\n",
    "\n",
    "#print(nft_module.get_with_owner(2,'0x55c9bbb71a5cc11c2f0c40362bb691b33a78b764'))"
   ]
  },
  {
   "cell_type": "code",
   "execution_count": 10,
   "metadata": {},
   "outputs": [
    {
     "name": "stdout",
     "output_type": "stream",
     "text": [
      "False\n"
     ]
    }
   ],
   "source": [
    "#this method checks whether the address is approved\n",
    "\n",
    "print(nft_module.is_approved('0x55c9bbb71a5cc11c2f0c40362bb691b33a78b764',operator=\"0x55c9bbb71a5cc11c2f0c40362bb691b33a78b764\"))"
   ]
  },
  {
   "cell_type": "code",
   "execution_count": 11,
   "metadata": {},
   "outputs": [
    {
     "name": "stderr",
     "output_type": "stream",
     "text": [
      "/Users/prathamprasoon/miniforge3/envs/nft/lib/python3.8/site-packages/thirdweb_web3/contract.py:1170: UserWarning: The log with transaction hash: HexBytes('0x931813e323addc7301216f2af21f8b214cfb0309ce037d2ef0d5dc005c065a81') and logIndex: 0 encountered the following error during processing: MismatchedABI(The event signature did not match the provided ABI). It has been discarded.\n",
      "  warnings.warn(\n"
     ]
    },
    {
     "data": {
      "text/plain": [
       "NftMetadata(name='new nft!', description='NFT EXAMPLE', image='ipfs://QmdFeKxt6FJUNvaGgzYuYNRbpNWyHxP2PFzjsgPf1eD2Jf', properties={}, id=10, uri='ipfs://bafkreieupzdaoflb43aexdsmhsd26i33272dt7iwm7qfqleq5bz7n2vrqa')"
      ]
     },
     "execution_count": 11,
     "metadata": {},
     "output_type": "execute_result"
    }
   ],
   "source": [
    "#Mint an NFT on your smartcontract\n",
    "#comment for 3dWeb: getting an error while minting\n",
    "#\n",
    "#HexBytes('0x847d80330b4d0bd59485d2cb31b552ae0a3a0cc25d74e6645a1fbfd0c280a234') and logIndex: 4 encountered the following error during processing: MismatchedABI(The event signature did not match the provided ABI). It has been discarded.\n",
    "#  warnings.warn(\n",
    "#NftMetadata(name='new nft!', description='NFT EXAMPLE', image='ipfs://QmdFeKxt6FJUNvaGgzYuYNRbpNWyHxP2PFzjsgPf1eD2Jf', properties={}, id=7, uri='ipfs://bafkreieupzdaoflb43aexdsmhsd26i33272dt7iwm7qfqleq5bz7n2vrqa')\n",
    "\n",
    "name_nft = \"new nft!\"\n",
    "description_nft = \"NFT EXAMPLE\"\n",
    "image_nft = \"ipfs://QmdFeKxt6FJUNvaGgzYuYNRbpNWyHxP2PFzjsgPf1eD2Jf\"\n",
    "prop = {}\n",
    "\n",
    "nft_module.mint(MintArg(name=name_nft, \n",
    "description=description_nft, \n",
    "image_uri=image_nft, \n",
    "properties=prop))\n"
   ]
  },
  {
   "cell_type": "code",
   "execution_count": 12,
   "metadata": {},
   "outputs": [
    {
     "name": "stderr",
     "output_type": "stream",
     "text": [
      "/Users/prathamprasoon/miniforge3/envs/nft/lib/python3.8/site-packages/thirdweb_web3/contract.py:1170: UserWarning: The log with transaction hash: HexBytes('0x86d661f4a96c65533261fd690659ecc1951d32331efc48cb28b430721bf2dd6e') and logIndex: 1 encountered the following error during processing: MismatchedABI(The event signature did not match the provided ABI). It has been discarded.\n",
      "  warnings.warn(\n",
      "/Users/prathamprasoon/miniforge3/envs/nft/lib/python3.8/site-packages/thirdweb_web3/contract.py:1170: UserWarning: The log with transaction hash: HexBytes('0x86d661f4a96c65533261fd690659ecc1951d32331efc48cb28b430721bf2dd6e') and logIndex: 2 encountered the following error during processing: MismatchedABI(The event signature did not match the provided ABI). It has been discarded.\n",
      "  warnings.warn(\n"
     ]
    },
    {
     "data": {
      "text/plain": [
       "[NftMetadata(name='new nft!', description='NFT EXAMPLE', image='ipfs://QmdFeKxt6FJUNvaGgzYuYNRbpNWyHxP2PFzjsgPf1eD2Jf', properties={}, id=11, uri='ipfs://bafkreieupzdaoflb43aexdsmhsd26i33272dt7iwm7qfqleq5bz7n2vrqa'),\n",
       " NftMetadata(name='new nft!', description='NFT EXAMPLE', image='ipfs://QmdFeKxt6FJUNvaGgzYuYNRbpNWyHxP2PFzjsgPf1eD2Jf', properties={}, id=12, uri='ipfs://bafkreieupzdaoflb43aexdsmhsd26i33272dt7iwm7qfqleq5bz7n2vrqa')]"
      ]
     },
     "execution_count": 12,
     "metadata": {},
     "output_type": "execute_result"
    }
   ],
   "source": [
    "#mint multiple nfts. For this you need to pass a list through the function 'mint_batch'\n",
    "\n",
    "name_nft = \"new nft!\"\n",
    "description_nft = \"NFT EXAMPLE\"\n",
    "image_nft = \"ipfs://QmdFeKxt6FJUNvaGgzYuYNRbpNWyHxP2PFzjsgPf1eD2Jf\"\n",
    "prop = {}\n",
    "\n",
    "nft_module.mint_batch([\n",
    "MintArg(name=name_nft, \n",
    "description=description_nft, \n",
    "image_uri=image_nft, \n",
    "properties=prop),\n",
    "MintArg(name=name_nft, \n",
    "description=description_nft, \n",
    "image_uri=image_nft, \n",
    "properties=prop)\n",
    "])\n",
    "\n"
   ]
  },
  {
   "cell_type": "code",
   "execution_count": 13,
   "metadata": {},
   "outputs": [
    {
     "name": "stderr",
     "output_type": "stream",
     "text": [
      "/Users/prathamprasoon/miniforge3/envs/nft/lib/python3.8/site-packages/thirdweb_web3/contract.py:1170: UserWarning: The log with transaction hash: HexBytes('0x6815bfff03672b5cac446073ee73689d49ed43b113dda724a0b6f40ba81d424a') and logIndex: 0 encountered the following error during processing: MismatchedABI(The event signature did not match the provided ABI). It has been discarded.\n",
      "  warnings.warn(\n"
     ]
    },
    {
     "data": {
      "text/plain": [
       "NftMetadata(name='new nft!', description='NFT EXAMPLE', image='ipfs://QmdFeKxt6FJUNvaGgzYuYNRbpNWyHxP2PFzjsgPf1eD2Jf', properties={}, id=13, uri='ipfs://bafkreieupzdaoflb43aexdsmhsd26i33272dt7iwm7qfqleq5bz7n2vrqa')"
      ]
     },
     "execution_count": 13,
     "metadata": {},
     "output_type": "execute_result"
    }
   ],
   "source": [
    "#mint and transfer\n",
    "\n",
    "name_nft = \"new nft!\"\n",
    "description_nft = \"NFT EXAMPLE\"\n",
    "image_nft = \"ipfs://QmdFeKxt6FJUNvaGgzYuYNRbpNWyHxP2PFzjsgPf1eD2Jf\"\n",
    "prop = {}\n",
    "\n",
    "nft_module.mint_to(\n",
    "    '0x55c9bbb71a5cc11c2f0c40362bb691b33a78b764',\n",
    "    MintArg(name=name_nft, \n",
    "description=description_nft, \n",
    "image_uri=image_nft, \n",
    "properties=prop)\n",
    ")"
   ]
  },
  {
   "cell_type": "code",
   "execution_count": 69,
   "metadata": {},
   "outputs": [
    {
     "name": "stderr",
     "output_type": "stream",
     "text": [
      "E:\\Anaconda\\envs\\web3\\lib\\site-packages\\web3\\contract.py:1168: UserWarning: The log with transaction hash: HexBytes('0xe48472b90eacd76b047337e5afca1232406954690842c66a260d023710cc8437') and logIndex: 0 encountered the following error during processing: MismatchedABI(The event signature did not match the provided ABI). It has been discarded.\n",
      "  warnings.warn(\n",
      "E:\\Anaconda\\envs\\web3\\lib\\site-packages\\web3\\contract.py:1168: UserWarning: The log with transaction hash: HexBytes('0xe48472b90eacd76b047337e5afca1232406954690842c66a260d023710cc8437') and logIndex: 1 encountered the following error during processing: MismatchedABI(The event signature did not match the provided ABI). It has been discarded.\n",
      "  warnings.warn(\n"
     ]
    },
    {
     "data": {
      "text/plain": [
       "[NftMetadata(name='new nft!', description='NFT EXAMPLE', image='ipfs://QmdFeKxt6FJUNvaGgzYuYNRbpNWyHxP2PFzjsgPf1eD2Jf', properties={}, id=6, uri='ipfs://bafkreieupzdaoflb43aexdsmhsd26i33272dt7iwm7qfqleq5bz7n2vrqa'),\n",
       " NftMetadata(name='new nft!', description='NFT EXAMPLE', image='ipfs://QmdFeKxt6FJUNvaGgzYuYNRbpNWyHxP2PFzjsgPf1eD2Jf', properties={}, id=7, uri='ipfs://bafkreieupzdaoflb43aexdsmhsd26i33272dt7iwm7qfqleq5bz7n2vrqa')]"
      ]
     },
     "execution_count": 69,
     "metadata": {},
     "output_type": "execute_result"
    }
   ],
   "source": [
    "#mint multiple nfts and transfer to address\n",
    "\n",
    "name_nft = \"new nft!\"\n",
    "description_nft = \"NFT EXAMPLE\"\n",
    "image_nft = \"ipfs://QmdFeKxt6FJUNvaGgzYuYNRbpNWyHxP2PFzjsgPf1eD2Jf\"\n",
    "prop = {}\n",
    "\n",
    "nft_module.mint_batch_to(\n",
    "    '0x55c9bbb71a5cc11c2f0c40362bb691b33a78b764',\n",
    "    [\n",
    "MintArg(name=name_nft, \n",
    "description=description_nft, \n",
    "image_uri=image_nft, \n",
    "properties=prop),\n",
    "MintArg(name=name_nft, \n",
    "description=description_nft, \n",
    "image_uri=image_nft, \n",
    "properties=prop)\n",
    "]\n",
    ")\n"
   ]
  },
  {
   "cell_type": "code",
   "execution_count": 70,
   "metadata": {},
   "outputs": [
    {
     "name": "stdout",
     "output_type": "stream",
     "text": [
      "0x55c9bBb71a5CC11c2f0c40362Bb691b33a78B764\n"
     ]
    }
   ],
   "source": [
    "#check who the owner (wallet address) is of an NFT\n",
    "print(nft_module.owner_of(2))"
   ]
  },
  {
   "cell_type": "code",
   "execution_count": null,
   "metadata": {},
   "outputs": [],
   "source": [
    "#we need to know operator for this function\n",
    "# def set_approval(self, operator, approved=True):\n",
    "# Sets approval for specified operator, defaults to grant approval\n",
    "# Parameters\n",
    "# operator:str\tUndocumented\n",
    "# approved:bool"
   ]
  },
  {
   "cell_type": "code",
   "execution_count": null,
   "metadata": {},
   "outputs": [],
   "source": [
    "#define and set metadata for a module\n",
    "def set_module_metadata(self, metadata):\n",
    "#Sets the metadata for the module\n",
    "#Parameters\n",
    "#metadata:str"
   ]
  },
  {
   "cell_type": "code",
   "execution_count": null,
   "metadata": {},
   "outputs": [],
   "source": [
    "#need an explanation for this function\n",
    "# def set_restricted_transfer(self, restricted=False):\n",
    "# Sets the restricted transfer flag\n",
    "# Parameters\n",
    "# restricted:bool\n",
    "# Restricted method is used to prevent making an NFT transferrable, ie a degree"
   ]
  },
  {
   "cell_type": "code",
   "execution_count": 71,
   "metadata": {},
   "outputs": [],
   "source": [
    "#set the royalty percentage of an NFT. Does this function also changes the royalty percentage for existing nfts?\n",
    "nft_module.set_royalty_bps(5)"
   ]
  },
  {
   "cell_type": "code",
   "execution_count": 73,
   "metadata": {},
   "outputs": [
    {
     "name": "stdout",
     "output_type": "stream",
     "text": [
      "8\n"
     ]
    }
   ],
   "source": [
    "#returns total supply of the current module\n",
    "print(nft_module.total_supply())"
   ]
  },
  {
   "cell_type": "code",
   "execution_count": 74,
   "metadata": {},
   "outputs": [],
   "source": [
    "#transfer nft from current wallet address to another adress\n",
    "nft_module.transfer('0x55c9bbb71a5cc11c2f0c40362bb691b33a78b764',2)"
   ]
  },
  {
   "cell_type": "code",
   "execution_count": null,
   "metadata": {},
   "outputs": [],
   "source": [
    "#transfer nft from a specific address to another address\n",
    "nft_module.transfer_from('0x55c9bbb71a5cc11c2f0c40362bb691b33a78b764','0x55c9bbb71a5cc11c2f0c40362bb691b33a78b764',2)"
   ]
  },
  {
   "cell_type": "code",
   "execution_count": null,
   "metadata": {},
   "outputs": [
    {
     "name": "stdout",
     "output_type": "stream",
     "text": [
      "6002000000000000001000\n"
     ]
    }
   ],
   "source": [
    "#enter currency amount to be minted\n",
    "# amount = 1000\n",
    "\n",
    "# currency_module.mint(amount* (10**18))\n",
    "# print(currency_module.balance())"
   ]
  },
  {
   "cell_type": "code",
   "execution_count": 12,
   "metadata": {},
   "outputs": [
    {
     "ename": "NameError",
     "evalue": "name 'currency_module' is not defined",
     "output_type": "error",
     "traceback": [
      "\u001b[1;31m---------------------------------------------------------------------------\u001b[0m",
      "\u001b[1;31mNameError\u001b[0m                                 Traceback (most recent call last)",
      "\u001b[1;32m~\\AppData\\Local\\Temp/ipykernel_2408/1687095937.py\u001b[0m in \u001b[0;36m<module>\u001b[1;34m\u001b[0m\n\u001b[0;32m      3\u001b[0m \u001b[1;33m\u001b[0m\u001b[0m\n\u001b[0;32m      4\u001b[0m \u001b[1;31m#burn tokens\u001b[0m\u001b[1;33m\u001b[0m\u001b[1;33m\u001b[0m\u001b[1;33m\u001b[0m\u001b[0m\n\u001b[1;32m----> 5\u001b[1;33m \u001b[0mcurrency_module\u001b[0m\u001b[1;33m.\u001b[0m\u001b[0mburn\u001b[0m\u001b[1;33m(\u001b[0m\u001b[0mburn_amount\u001b[0m\u001b[1;33m*\u001b[0m \u001b[1;33m(\u001b[0m\u001b[1;36m10\u001b[0m\u001b[1;33m**\u001b[0m\u001b[1;36m18\u001b[0m\u001b[1;33m)\u001b[0m\u001b[1;33m)\u001b[0m\u001b[1;33m\u001b[0m\u001b[1;33m\u001b[0m\u001b[0m\n\u001b[0m\u001b[0;32m      6\u001b[0m \u001b[0mprint\u001b[0m\u001b[1;33m(\u001b[0m\u001b[0mcurrency_module\u001b[0m\u001b[1;33m.\u001b[0m\u001b[0mbalance\u001b[0m\u001b[1;33m(\u001b[0m\u001b[1;33m)\u001b[0m\u001b[1;33m)\u001b[0m\u001b[1;33m\u001b[0m\u001b[1;33m\u001b[0m\u001b[0m\n",
      "\u001b[1;31mNameError\u001b[0m: name 'currency_module' is not defined"
     ]
    }
   ],
   "source": [
    "#enter the amount of tokens to be burned\n",
    "# burn_amount = 500\n",
    "\n",
    "# #burn tokens\n",
    "# currency_module.burn(burn_amount* (10**18))\n",
    "# print(currency_module.balance())"
   ]
  }
 ],
 "metadata": {
  "interpreter": {
   "hash": "a2d3aaee4560012b18958894f21c6dab05acf2cbe4b1b644ee955ae7df40fd79"
  },
  "kernelspec": {
   "display_name": "Python 3.8.12 64-bit ('nft': conda)",
   "language": "python",
   "name": "python3"
  },
  "language_info": {
   "codemirror_mode": {
    "name": "ipython",
    "version": 3
   },
   "file_extension": ".py",
   "mimetype": "text/x-python",
   "name": "python",
   "nbconvert_exporter": "python",
   "pygments_lexer": "ipython3",
   "version": "3.8.12"
  },
  "orig_nbformat": 4
 },
 "nbformat": 4,
 "nbformat_minor": 2
}
