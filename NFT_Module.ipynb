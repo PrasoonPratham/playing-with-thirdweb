{
 "cells": [
  {
   "cell_type": "code",
   "execution_count": 1,
   "metadata": {},
   "outputs": [],
   "source": [
    "# Importing stuff\n",
    "from nftlabs import NftlabsSdk, SdkOptions, ListArg, MintArg\n",
    "import os"
   ]
  },
  {
   "cell_type": "code",
   "execution_count": 2,
   "metadata": {},
   "outputs": [],
   "source": [
    "#choose your network\n",
    "\n",
    "network = \"https://rinkeby-light.eth.linkpool.io/\"\n",
    "sdk = NftlabsSdk(SdkOptions(), network)\n",
    "#dont forget to hide your private key\n",
    "sdk.set_private_key(\"a0064ca30a15d338590d95fc7d1e87f889d11fe31897340b391674e84d49f1ee\")"
   ]
  },
  {
   "cell_type": "code",
   "execution_count": 3,
   "metadata": {},
   "outputs": [],
   "source": [
    "#pick your module and enter the smart contract address\n",
    "nft_smart_contract_address = \"0xf27C2a1c44E6F16Fbcc9FBB582d7799057Dc57a6\"\n",
    "nft_module = sdk.get_nft_module(nft_smart_contract_address)"
   ]
  },
  {
   "cell_type": "code",
   "execution_count": 4,
   "metadata": {},
   "outputs": [
    {
     "name": "stdout",
     "output_type": "stream",
     "text": [
      "13\n"
     ]
    }
   ],
   "source": [
    "#This method prints out the balance of your nft smartcontract\n",
    "#The amount returend is the amount of nft's that this contract is holding!\n",
    "print(nft_module.balance())"
   ]
  },
  {
   "cell_type": "code",
   "execution_count": 20,
   "metadata": {},
   "outputs": [
    {
     "name": "stderr",
     "output_type": "stream",
     "text": [
      "/Users/prathamprasoon/miniforge3/envs/nft/lib/python3.8/site-packages/web3/contract.py:1168: UserWarning: The log with transaction hash: HexBytes('0x847d80330b4d0bd59485d2cb31b552ae0a3a0cc25d74e6645a1fbfd0c280a234') and logIndex: 4 encountered the following error during processing: MismatchedABI(The event signature did not match the provided ABI). It has been discarded.\n",
      "  warnings.warn(\n"
     ]
    },
    {
     "data": {
      "text/plain": [
       "NftMetadata(name='new nft!', description='NFT EXAMPLE', image='ipfs://QmdFeKxt6FJUNvaGgzYuYNRbpNWyHxP2PFzjsgPf1eD2Jf', properties={}, id=7, uri='ipfs://bafkreieupzdaoflb43aexdsmhsd26i33272dt7iwm7qfqleq5bz7n2vrqa')"
      ]
     },
     "execution_count": 20,
     "metadata": {},
     "output_type": "execute_result"
    }
   ],
   "source": [
    "#Mint an NFT on your smartcontract\n",
    "#comment for 3dWeb: getting an error while minting\n",
    "#\n",
    "#HexBytes('0x847d80330b4d0bd59485d2cb31b552ae0a3a0cc25d74e6645a1fbfd0c280a234') and logIndex: 4 encountered the following error during processing: MismatchedABI(The event signature did not match the provided ABI). It has been discarded.\n",
    "#  warnings.warn(\n",
    "#NftMetadata(name='new nft!', description='NFT EXAMPLE', image='ipfs://QmdFeKxt6FJUNvaGgzYuYNRbpNWyHxP2PFzjsgPf1eD2Jf', properties={}, id=7, uri='ipfs://bafkreieupzdaoflb43aexdsmhsd26i33272dt7iwm7qfqleq5bz7n2vrqa')\n",
    "\n",
    "name_nft = \"new nft!\"\n",
    "description_nft = \"NFT EXAMPLE\"\n",
    "image_nft = \"ipfs://QmdFeKxt6FJUNvaGgzYuYNRbpNWyHxP2PFzjsgPf1eD2Jf\"\n",
    "prop = {}\n",
    "\n",
    "nft_module.mint(MintArg(name=name_nft, \n",
    "description=description_nft, \n",
    "image_uri=image_nft, \n",
    "properties=prop))\n"
   ]
  },
  {
   "cell_type": "code",
   "execution_count": 24,
   "metadata": {},
   "outputs": [
    {
     "name": "stdout",
     "output_type": "stream",
     "text": [
      "6002000000000000001000\n"
     ]
    }
   ],
   "source": [
    "#enter currency amount to be minted\n",
    "amount = 1000\n",
    "\n",
    "currency_module.mint(amount* (10**18))\n",
    "print(currency_module.balance())"
   ]
  },
  {
   "cell_type": "code",
   "execution_count": 25,
   "metadata": {},
   "outputs": [
    {
     "name": "stdout",
     "output_type": "stream",
     "text": [
      "5502000000000000001000\n"
     ]
    }
   ],
   "source": [
    "#enter the amount of tokens to be burned\n",
    "burn_amount = 500\n",
    "\n",
    "#burn tokens\n",
    "currency_module.burn(burn_amount* (10**18))\n",
    "print(currency_module.balance())"
   ]
  }
 ],
 "metadata": {
  "interpreter": {
   "hash": "a2d3aaee4560012b18958894f21c6dab05acf2cbe4b1b644ee955ae7df40fd79"
  },
  "kernelspec": {
   "display_name": "Python 3.8.12 64-bit ('nft': conda)",
   "language": "python",
   "name": "python3"
  },
  "language_info": {
   "codemirror_mode": {
    "name": "ipython",
    "version": 3
   },
   "file_extension": ".py",
   "mimetype": "text/x-python",
   "name": "python",
   "nbconvert_exporter": "python",
   "pygments_lexer": "ipython3",
   "version": "3.8.0"
  },
  "orig_nbformat": 4
 },
 "nbformat": 4,
 "nbformat_minor": 2
}
