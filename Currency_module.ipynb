{
 "cells": [
  {
   "cell_type": "code",
   "execution_count": 2,
   "metadata": {},
   "outputs": [],
   "source": [
    "# Importing stuff\n",
    "from thirdweb import ThirdwebSdk, SdkOptions, ListArg, MintArg\n",
    "import os"
   ]
  },
  {
   "cell_type": "markdown",
   "metadata": {},
   "source": [
    "## Setting up the sdk\n",
    "\n",
    "To start using the sdk, you only need one thing: an RPC URL.\n",
    "\n",
    "The RPC URL will depend on the chain you're using. Here are a few of the common RPC urls:\n",
    "\n",
    "| Chain Name                 | ID     | RPC URL                         |\n",
    "|----------------------------|--------|---------------------------------|\n",
    "| Polygon Mainnet            | 137    | https://polygon-rpc.com         |\n",
    "| Polygon Mumbai (testnet)   | 80001  | https://rpc-mumbai.matic.today  |\n",
    "| Ethereum Rinkeby (testnet) | 421611 | https://rinkeby-light.eth.linkpool.io/ |\n",
    "\n",
    "Lets instantiate the SDK and connect to the Rinkeyby testnet."
   ]
  },
  {
   "cell_type": "code",
   "execution_count": 8,
   "metadata": {},
   "outputs": [],
   "source": [
    "network = \"https://rinkeby-light.eth.linkpool.io/\"\n",
    "sdk = ThirdwebSdk(SdkOptions(), network)"
   ]
  },
  {
   "cell_type": "markdown",
   "metadata": {},
   "source": [
    "### Configuring a private key\n",
    "\n",
    "You can use the SDK *without* a private key if you are just fetching data. You can check balances, query modules, search listings, etc all without a private key.\n",
    "\n",
    "Once you get to a point where you want to run a transaction (like minting an NFT), you need to configure your private key.\n",
    "\n",
    "Here's how you configure the private key with the SDK:"
   ]
  },
  {
   "cell_type": "code",
   "execution_count": 13,
   "metadata": {},
   "outputs": [],
   "source": [
    "# dont forget to hide your private key, never share this with anyone\n",
    "sdk.set_private_key(\"a0064ca30a15d338590d95fc7d1e87f889d11fe31897340b391674e84d49f1ee\")"
   ]
  },
  {
   "cell_type": "markdown",
   "metadata": {},
   "source": [
    "### Instantiating a currency module\n",
    "\n",
    "Once we've deployed a currency module, we can connect to it using the `get_currency_module` method like this:"
   ]
  },
  {
   "cell_type": "code",
   "execution_count": 9,
   "metadata": {},
   "outputs": [],
   "source": [
    "#pick your module and enter the smart contract address\n",
    "currency_module_address = \"0xEdCFC14D03d3aA8A8fF19170bb2F6231D99E1491\"\n",
    "currency_module = sdk.get_currency_module(currency_module_address)"
   ]
  },
  {
   "cell_type": "markdown",
   "metadata": {},
   "source": [
    "## Checking Balances\n",
    "\n",
    "Because there are fractionals in crypto with 18+ decimal places, we need a way to convert a price into a display value.\n",
    "\n",
    "The `get_value` method allows you to convert a price into its decimal display value."
   ]
  },
  {
   "cell_type": "code",
   "execution_count": 5,
   "metadata": {},
   "outputs": [
    {
     "name": "stdout",
     "output_type": "stream",
     "text": [
      "4000000000000000000000\n",
      "CurrencyValue(name='PythonCoins', symbol='P', decimals=18, value='4000000000000000000000', display_value='4000.000000000000000000')\n",
      "4000000000000000000000\n"
     ]
    }
   ],
   "source": [
    "#This method prints out the balance of your nft smartcontract\n",
    "#The amount returend is the amount of nft's that this contract is holding!\n",
    "balance = currency_module.balance()\n",
    "print(balance)\n",
    "print(currency_module.get_value(balance))\n",
    "print(currency_module.balance_of('0x55c9bbb71a5cc11c2f0c40362bb691b33a78b764'))"
   ]
  },
  {
   "cell_type": "code",
   "execution_count": 20,
   "metadata": {},
   "outputs": [
    {
     "name": "stdout",
     "output_type": "stream",
     "text": [
      "2000.000000000000000000\n"
     ]
    }
   ],
   "source": [
    "#another way to format the balance is to make use of a build in function\n",
    "print(currency_module.format_units(balance,18))"
   ]
  },
  {
   "cell_type": "markdown",
   "metadata": {},
   "source": [
    "### Using allowances\n",
    "\n",
    "Sometimes a smart contract needs access to your funds so that it can act on your behalf.\n",
    "\n",
    "For example, assume there are two wallets:\n",
    "\n",
    "1. Wallet `0xBOB` -> owns 100 `$MATIC`\n",
    "2. Wallet `0xSALLY` -> owns 0 `$MATIC`\n",
    "\n",
    "If `0xBOB` calls `set_allowance(50, 0xSALLY)`, the wallet `0xSALLY` now has permission to spend **up to 50 `$MATIC`** from `0xBOB`s wallet, without `0xBOB` having to transfer the coins to `0xSALLY`.\n",
    "\n",
    "Lots of defi smart contracts use allowances to move funds between users' wallets without having the move the tokens to an intermediate wallet (which saves on gas and is more secure)."
   ]
  },
  {
   "cell_type": "code",
   "execution_count": 12,
   "metadata": {},
   "outputs": [
    {
     "ename": "NoSignerException",
     "evalue": "No signer (private key) supplied to SDK",
     "output_type": "error",
     "traceback": [
      "\u001b[0;31m---------------------------------------------------------------------------\u001b[0m",
      "\u001b[0;31mNoSignerException\u001b[0m                         Traceback (most recent call last)",
      "\u001b[0;32m/var/folders/3k/t60fm7fn4fq585qrm1vkx6ch0000gn/T/ipykernel_80556/611352268.py\u001b[0m in \u001b[0;36m<module>\u001b[0;34m\u001b[0m\n\u001b[1;32m      1\u001b[0m \u001b[0;31m#allowonce in the current wallet. Not sure what an allowance is ??\u001b[0m\u001b[0;34m\u001b[0m\u001b[0;34m\u001b[0m\u001b[0m\n\u001b[0;32m----> 2\u001b[0;31m \u001b[0mprint\u001b[0m\u001b[0;34m(\u001b[0m\u001b[0mcurrency_module\u001b[0m\u001b[0;34m.\u001b[0m\u001b[0mallowance\u001b[0m\u001b[0;34m(\u001b[0m\u001b[0;34m'0x55c9bbb71a5cc11c2f0c40362bb691b33a78b764'\u001b[0m\u001b[0;34m)\u001b[0m\u001b[0;34m)\u001b[0m\u001b[0;34m\u001b[0m\u001b[0;34m\u001b[0m\u001b[0m\n\u001b[0m\u001b[1;32m      3\u001b[0m \u001b[0mprint\u001b[0m\u001b[0;34m(\u001b[0m\u001b[0mcurrency_module\u001b[0m\u001b[0;34m.\u001b[0m\u001b[0mallowance_of\u001b[0m\u001b[0;34m(\u001b[0m\u001b[0;34m'0x55c9bbb71a5cc11c2f0c40362bb691b33a78b764'\u001b[0m\u001b[0;34m,\u001b[0m \u001b[0;34m'0x55c9bbb71a5cc11c2f0c40362bb691b33a78b764'\u001b[0m\u001b[0;34m)\u001b[0m\u001b[0;34m)\u001b[0m\u001b[0;34m\u001b[0m\u001b[0;34m\u001b[0m\u001b[0m\n",
      "\u001b[0;32m~/code/nft-labs/playing-with-thirdweb/.env/lib/python3.9/site-packages/thirdweb/modules/currency.py\u001b[0m in \u001b[0;36mallowance\u001b[0;34m(self, spender)\u001b[0m\n\u001b[1;32m     52\u001b[0m         \u001b[0mGets\u001b[0m \u001b[0mthe\u001b[0m \u001b[0mallowance\u001b[0m \u001b[0mof\u001b[0m \u001b[0mthe\u001b[0m \u001b[0mcurrent\u001b[0m \u001b[0maddress\u001b[0m\u001b[0;34m\u001b[0m\u001b[0;34m\u001b[0m\u001b[0m\n\u001b[1;32m     53\u001b[0m         \"\"\"\n\u001b[0;32m---> 54\u001b[0;31m         \u001b[0;32mreturn\u001b[0m \u001b[0mself\u001b[0m\u001b[0;34m.\u001b[0m\u001b[0m__abi_module\u001b[0m\u001b[0;34m.\u001b[0m\u001b[0mallowance\u001b[0m\u001b[0;34m.\u001b[0m\u001b[0mcall\u001b[0m\u001b[0;34m(\u001b[0m\u001b[0mself\u001b[0m\u001b[0;34m.\u001b[0m\u001b[0mget_signer_address\u001b[0m\u001b[0;34m(\u001b[0m\u001b[0;34m)\u001b[0m\u001b[0;34m,\u001b[0m \u001b[0mspender\u001b[0m\u001b[0;34m)\u001b[0m\u001b[0;34m\u001b[0m\u001b[0;34m\u001b[0m\u001b[0m\n\u001b[0m\u001b[1;32m     55\u001b[0m \u001b[0;34m\u001b[0m\u001b[0m\n\u001b[1;32m     56\u001b[0m     \u001b[0;32mdef\u001b[0m \u001b[0mallowance_of\u001b[0m\u001b[0;34m(\u001b[0m\u001b[0mself\u001b[0m\u001b[0;34m,\u001b[0m \u001b[0mowner\u001b[0m\u001b[0;34m:\u001b[0m \u001b[0mstr\u001b[0m\u001b[0;34m,\u001b[0m \u001b[0mspender\u001b[0m\u001b[0;34m:\u001b[0m \u001b[0mstr\u001b[0m\u001b[0;34m)\u001b[0m \u001b[0;34m->\u001b[0m \u001b[0mint\u001b[0m\u001b[0;34m:\u001b[0m\u001b[0;34m\u001b[0m\u001b[0;34m\u001b[0m\u001b[0m\n",
      "\u001b[0;32m~/code/nft-labs/playing-with-thirdweb/.env/lib/python3.9/site-packages/thirdweb/sdk.py\u001b[0m in \u001b[0;36m__get_signer_address\u001b[0;34m(self)\u001b[0m\n\u001b[1;32m    154\u001b[0m     \u001b[0;32mdef\u001b[0m \u001b[0m__get_signer_address\u001b[0m\u001b[0;34m(\u001b[0m\u001b[0mself\u001b[0m\u001b[0;34m)\u001b[0m \u001b[0;34m->\u001b[0m \u001b[0mstr\u001b[0m\u001b[0;34m:\u001b[0m\u001b[0;34m\u001b[0m\u001b[0;34m\u001b[0m\u001b[0m\n\u001b[1;32m    155\u001b[0m         \u001b[0;32mif\u001b[0m \u001b[0mself\u001b[0m\u001b[0;34m.\u001b[0m\u001b[0msigner_address\u001b[0m \u001b[0;34m==\u001b[0m \u001b[0;34m\"\"\u001b[0m\u001b[0;34m:\u001b[0m\u001b[0;34m\u001b[0m\u001b[0;34m\u001b[0m\u001b[0m\n\u001b[0;32m--> 156\u001b[0;31m             \u001b[0;32mraise\u001b[0m \u001b[0mNoSignerException\u001b[0m\u001b[0;34m(\u001b[0m\u001b[0;34m)\u001b[0m\u001b[0;34m\u001b[0m\u001b[0;34m\u001b[0m\u001b[0m\n\u001b[0m\u001b[1;32m    157\u001b[0m         \u001b[0;32mreturn\u001b[0m \u001b[0mself\u001b[0m\u001b[0;34m.\u001b[0m\u001b[0msigner_address\u001b[0m\u001b[0;34m\u001b[0m\u001b[0;34m\u001b[0m\u001b[0m\n\u001b[1;32m    158\u001b[0m \u001b[0;34m\u001b[0m\u001b[0m\n",
      "\u001b[0;31mNoSignerException\u001b[0m: No signer (private key) supplied to SDK"
     ]
    }
   ],
   "source": [
    "#allowonce in the current wallet. Not sure what an allowance is ??\n",
    "print(currency_module.allowance('0x55c9bbb71a5cc11c2f0c40362bb691b33a78b764'))\n",
    "print(currency_module.allowance_of('0x55c9bbb71a5cc11c2f0c40362bb691b33a78b764', '0x55c9bbb71a5cc11c2f0c40362bb691b33a78b764'))"
   ]
  },
  {
   "cell_type": "code",
   "execution_count": null,
   "metadata": {},
   "outputs": [],
   "source": [
    "# Function burned still under discussion\n",
    "# def burn(self, amount):\n",
    "# Burns the given amount from the current address\n",
    "# Parameters\n",
    "# amount:int\tUndocumented\n",
    "# def burn_from(self, from_address, amount):\n",
    "# Burns the given amount from the current address\n",
    "# Parameters\n",
    "# from_address:str\tUndocumented\n",
    "# amount:int"
   ]
  },
  {
   "cell_type": "code",
   "execution_count": 25,
   "metadata": {},
   "outputs": [
    {
     "name": "stdout",
     "output_type": "stream",
     "text": [
      "Currency(name='PythonCoins', symbol='P', decimals=18)\n"
     ]
    }
   ],
   "source": [
    "#get the currency name symbol and decimals\n",
    "print(currency_module.get())"
   ]
  },
  {
   "cell_type": "code",
   "execution_count": 27,
   "metadata": {},
   "outputs": [
    {
     "ename": "AttributeError",
     "evalue": "'CurrencyModule' object has no attribute 'get_abi_module'",
     "output_type": "error",
     "traceback": [
      "\u001b[0;31m---------------------------------------------------------------------------\u001b[0m",
      "\u001b[0;31mAttributeError\u001b[0m                            Traceback (most recent call last)",
      "\u001b[0;32m/var/folders/l3/dpyd7nqs0rbgc41kg_f75sym0000gn/T/ipykernel_3640/3233670844.py\u001b[0m in \u001b[0;36m<module>\u001b[0;34m\u001b[0m\n\u001b[0;32m----> 1\u001b[0;31m \u001b[0mprint\u001b[0m\u001b[0;34m(\u001b[0m\u001b[0mcurrency_module\u001b[0m\u001b[0;34m.\u001b[0m\u001b[0mget_abi_module\u001b[0m\u001b[0;34m(\u001b[0m\u001b[0;34m)\u001b[0m\u001b[0;34m)\u001b[0m\u001b[0;34m\u001b[0m\u001b[0;34m\u001b[0m\u001b[0m\n\u001b[0m",
      "\u001b[0;31mAttributeError\u001b[0m: 'CurrencyModule' object has no attribute 'get_abi_module'"
     ]
    }
   ],
   "source": [
    "#what is this function meant to do\n",
    "print(currency_module.get_abi_module())"
   ]
  },
  {
   "cell_type": "code",
   "execution_count": 32,
   "metadata": {},
   "outputs": [
    {
     "name": "stdout",
     "output_type": "stream",
     "text": [
      "CurrencyValue(name='PythonCoins', symbol='P', decimals=18, value='2500000000000000000000', display_value='2500.000000000000000000')\n"
     ]
    }
   ],
   "source": [
    "#pass a value to return tokens in the currency model. Note, the decimals.\n",
    "print(currency_module.get_value(2500))"
   ]
  },
  {
   "cell_type": "code",
   "execution_count": 33,
   "metadata": {},
   "outputs": [
    {
     "data": {
      "text/plain": [
       "AttributeDict({'blockHash': HexBytes('0x9a1598e4805491fa3f82808074d310510c92e6eded8e555aaf73030c8be0c712'),\n",
       " 'blockNumber': 9601430,\n",
       " 'contractAddress': None,\n",
       " 'cumulativeGasUsed': 41441,\n",
       " 'effectiveGasPrice': 100000000000,\n",
       " 'from': '0x55c9bBb71a5CC11c2f0c40362Bb691b33a78B764',\n",
       " 'gasUsed': 41441,\n",
       " 'logs': [AttributeDict({'address': '0xEdCFC14D03d3aA8A8fF19170bb2F6231D99E1491',\n",
       "   'topics': [HexBytes('0xddf252ad1be2c89b69c2b068fc378daa952ba7f163c4a11628f55a4df523b3ef'),\n",
       "    HexBytes('0x0000000000000000000000000000000000000000000000000000000000000000'),\n",
       "    HexBytes('0x00000000000000000000000055c9bbb71a5cc11c2f0c40362bb691b33a78b764')],\n",
       "   'data': '0x00000000000000000000000000000000000000000000003635c9adc5dea00000',\n",
       "   'blockNumber': 9601430,\n",
       "   'transactionHash': HexBytes('0x68bf7ee3e1e8ea2f6cbb88973dc6349ba3c98f50f7796b1dffd4aa5d51b1be57'),\n",
       "   'transactionIndex': 0,\n",
       "   'blockHash': HexBytes('0x9a1598e4805491fa3f82808074d310510c92e6eded8e555aaf73030c8be0c712'),\n",
       "   'logIndex': 0,\n",
       "   'removed': False})],\n",
       " 'logsBloom': HexBytes('0x00000000000000000000000000000000000000000000000000000000000000000000000000000000000000000000000000000000000000000000000000000000000004000000000000000008000000000000000000800000000000000000000000000000020000000000000000000800000000000000000000000010000000000000000000000000000000400000000000000000000000000000000000000000000000000000000000000000000000000000000000000000400000000008000000000002000000000000000000000000020000000000000000000000000020000000000000000000000000000000000000000000000000000000000000000000'),\n",
       " 'status': 1,\n",
       " 'to': '0xEdCFC14D03d3aA8A8fF19170bb2F6231D99E1491',\n",
       " 'transactionHash': HexBytes('0x68bf7ee3e1e8ea2f6cbb88973dc6349ba3c98f50f7796b1dffd4aa5d51b1be57'),\n",
       " 'transactionIndex': 0,\n",
       " 'type': '0x0'})"
      ]
     },
     "execution_count": 33,
     "metadata": {},
     "output_type": "execute_result"
    }
   ],
   "source": [
    "#mint tokens or coins in the currency model\n",
    "amount = 1000\n",
    "currency_module.mint(amount* (10**18))"
   ]
  },
  {
   "cell_type": "code",
   "execution_count": 34,
   "metadata": {},
   "outputs": [
    {
     "data": {
      "text/plain": [
       "AttributeDict({'blockHash': HexBytes('0x5622c3e594a76d27c4fc1138880a4b60877b6c9d0d1ba18cc575210e39c807e8'),\n",
       " 'blockNumber': 9601440,\n",
       " 'contractAddress': None,\n",
       " 'cumulativeGasUsed': 41441,\n",
       " 'effectiveGasPrice': 100000000000,\n",
       " 'from': '0x55c9bBb71a5CC11c2f0c40362Bb691b33a78B764',\n",
       " 'gasUsed': 41441,\n",
       " 'logs': [AttributeDict({'address': '0xEdCFC14D03d3aA8A8fF19170bb2F6231D99E1491',\n",
       "   'topics': [HexBytes('0xddf252ad1be2c89b69c2b068fc378daa952ba7f163c4a11628f55a4df523b3ef'),\n",
       "    HexBytes('0x0000000000000000000000000000000000000000000000000000000000000000'),\n",
       "    HexBytes('0x00000000000000000000000055c9bbb71a5cc11c2f0c40362bb691b33a78b764')],\n",
       "   'data': '0x00000000000000000000000000000000000000000000003635c9adc5dea00000',\n",
       "   'blockNumber': 9601440,\n",
       "   'transactionHash': HexBytes('0x2ff12653cb9c614496c82716c3d1cb3ec0a49e2055e2d0cb9ff64886862c7410'),\n",
       "   'transactionIndex': 0,\n",
       "   'blockHash': HexBytes('0x5622c3e594a76d27c4fc1138880a4b60877b6c9d0d1ba18cc575210e39c807e8'),\n",
       "   'logIndex': 0,\n",
       "   'removed': False})],\n",
       " 'logsBloom': HexBytes('0x00000000000000000000000000000000000000000000000000000000000000000000000000000000000000000000000000000000000000000000000000000000000004000000000000000008000000000000000000800000000000000000000000000000020000000000000000000800000000000000000000000010000000000000000000000000000000400000000000000000000000000000000000000000000000000000000000000000000000000000000000000000400000000008000000000002000000000000000000000000020000000000000000000000000020000000000000000000000000000000000000000000000000000000000000000000'),\n",
       " 'status': 1,\n",
       " 'to': '0xEdCFC14D03d3aA8A8fF19170bb2F6231D99E1491',\n",
       " 'transactionHash': HexBytes('0x2ff12653cb9c614496c82716c3d1cb3ec0a49e2055e2d0cb9ff64886862c7410'),\n",
       " 'transactionIndex': 0,\n",
       " 'type': '0x0'})"
      ]
     },
     "execution_count": 34,
     "metadata": {},
     "output_type": "execute_result"
    }
   ],
   "source": [
    "#mint tokens and transfer to a specific addres\n",
    "amount = 1000\n",
    "to_address = '0x55c9bBb71a5CC11c2f0c40362Bb691b33a78B764'\n",
    "currency_module.mint_to(to_address, amount* (10**18))"
   ]
  },
  {
   "cell_type": "code",
   "execution_count": 40,
   "metadata": {},
   "outputs": [
    {
     "data": {
      "text/plain": [
       "AttributeDict({'blockHash': HexBytes('0xb83ef6b7ded38e4263adae930fc08e571572b47d9c4b6f979b6f7ccf62236d5e'),\n",
       " 'blockNumber': 9601489,\n",
       " 'contractAddress': None,\n",
       " 'cumulativeGasUsed': 97700,\n",
       " 'effectiveGasPrice': 100000000000,\n",
       " 'from': '0x55c9bBb71a5CC11c2f0c40362Bb691b33a78B764',\n",
       " 'gasUsed': 48683,\n",
       " 'logs': [AttributeDict({'address': '0xEdCFC14D03d3aA8A8fF19170bb2F6231D99E1491',\n",
       "   'topics': [HexBytes('0x8c5be1e5ebec7d5bd14f71427d1e84f3dd0314c0f7b2291e5b200ac8c7c3b925'),\n",
       "    HexBytes('0x00000000000000000000000055c9bbb71a5cc11c2f0c40362bb691b33a78b764'),\n",
       "    HexBytes('0x00000000000000000000000055c9bbb71a5cc11c2f0c40362bb691b33a78b764')],\n",
       "   'data': '0x00000000000000000000000000000000000000000000003635c9adc5dea00000',\n",
       "   'blockNumber': 9601489,\n",
       "   'transactionHash': HexBytes('0xce9997e174281c6abfabe843292d9c6adc918cf17b3fc04d9dd633c8fc7bc26a'),\n",
       "   'transactionIndex': 1,\n",
       "   'blockHash': HexBytes('0xb83ef6b7ded38e4263adae930fc08e571572b47d9c4b6f979b6f7ccf62236d5e'),\n",
       "   'logIndex': 1,\n",
       "   'removed': False})],\n",
       " 'logsBloom': HexBytes('0x00000000000000000000000000000000000000000000000000000000000000000000000000000000000000000000000000000000000000000000000000200000000004000000000000000000000000000000000000800000000000000000000000000000000000000000000000000000000000000000000000000000000000000000000000000000000000400000000000000000000000000000000000000000020000000000000000000000000000000000000000000000400000000008000000000000000000000000000000000000020000000000000000000000000000000010000000000000000000000000000000000000000000000000000000000000'),\n",
       " 'status': 1,\n",
       " 'to': '0xEdCFC14D03d3aA8A8fF19170bb2F6231D99E1491',\n",
       " 'transactionHash': HexBytes('0xce9997e174281c6abfabe843292d9c6adc918cf17b3fc04d9dd633c8fc7bc26a'),\n",
       " 'transactionIndex': 1,\n",
       " 'type': '0x0'})"
      ]
     },
     "execution_count": 40,
     "metadata": {},
     "output_type": "execute_result"
    }
   ],
   "source": [
    "#set max allowance to be spend for an adress ? Yes\n",
    "spender = '0x55c9bBb71a5CC11c2f0c40362Bb691b33a78B764'\n",
    "spender_amount = 1000*10**18\n",
    "\n",
    "currency_module.set_allowance(spender,spender_amount)"
   ]
  },
  {
   "cell_type": "code",
   "execution_count": null,
   "metadata": {},
   "outputs": [],
   "source": [
    "#set module metadata -> question pending\n",
    "# def set_module_metadata(self, metadata):\n",
    "# Sets the metadata for the module\n",
    "# Parameters\n",
    "# metadata:str"
   ]
  },
  {
   "cell_type": "code",
   "execution_count": null,
   "metadata": {},
   "outputs": [],
   "source": [
    "#what is restriced transfer? A blacklist?\n",
    "# def set_restricted_transfer(self, restricted=False):\n",
    "# Sets the restricted transfer flag\n",
    "# Parameters\n",
    "# restricted:bool\n"
   ]
  },
  {
   "cell_type": "code",
   "execution_count": 36,
   "metadata": {},
   "outputs": [
    {
     "name": "stdout",
     "output_type": "stream",
     "text": [
      "4000000000000000000000\n",
      "4000.0\n"
     ]
    }
   ],
   "source": [
    "#get the total supply in the currency module\n",
    "print(currency_module.total_supply())\n",
    "print(currency_module.total_supply()/10**18)"
   ]
  },
  {
   "cell_type": "code",
   "execution_count": 41,
   "metadata": {},
   "outputs": [
    {
     "data": {
      "text/plain": [
       "AttributeDict({'blockHash': HexBytes('0xec31b24c7eddabe692ca4596caab09015e096bde14b70a69a0bf4d3a2ea25fc2'),\n",
       " 'blockNumber': 9601490,\n",
       " 'contractAddress': None,\n",
       " 'cumulativeGasUsed': 39835,\n",
       " 'effectiveGasPrice': 100000000000,\n",
       " 'from': '0x55c9bBb71a5CC11c2f0c40362Bb691b33a78B764',\n",
       " 'gasUsed': 39835,\n",
       " 'logs': [AttributeDict({'address': '0xEdCFC14D03d3aA8A8fF19170bb2F6231D99E1491',\n",
       "   'topics': [HexBytes('0xddf252ad1be2c89b69c2b068fc378daa952ba7f163c4a11628f55a4df523b3ef'),\n",
       "    HexBytes('0x00000000000000000000000055c9bbb71a5cc11c2f0c40362bb691b33a78b764'),\n",
       "    HexBytes('0x00000000000000000000000055c9bbb71a5cc11c2f0c40362bb691b33a78b764')],\n",
       "   'data': '0x0000000000000000000000000000000000000000000000000000000000000384',\n",
       "   'blockNumber': 9601490,\n",
       "   'transactionHash': HexBytes('0x1504b264021ab31a804c60c3895a3944d9ad44e9079d34eb6816d5d819294fe5'),\n",
       "   'transactionIndex': 0,\n",
       "   'blockHash': HexBytes('0xec31b24c7eddabe692ca4596caab09015e096bde14b70a69a0bf4d3a2ea25fc2'),\n",
       "   'logIndex': 0,\n",
       "   'removed': False}),\n",
       "  AttributeDict({'address': '0xEdCFC14D03d3aA8A8fF19170bb2F6231D99E1491',\n",
       "   'topics': [HexBytes('0x8c5be1e5ebec7d5bd14f71427d1e84f3dd0314c0f7b2291e5b200ac8c7c3b925'),\n",
       "    HexBytes('0x00000000000000000000000055c9bbb71a5cc11c2f0c40362bb691b33a78b764'),\n",
       "    HexBytes('0x00000000000000000000000055c9bbb71a5cc11c2f0c40362bb691b33a78b764')],\n",
       "   'data': '0x00000000000000000000000000000000000000000000003635c9adc5de9ffc7c',\n",
       "   'blockNumber': 9601490,\n",
       "   'transactionHash': HexBytes('0x1504b264021ab31a804c60c3895a3944d9ad44e9079d34eb6816d5d819294fe5'),\n",
       "   'transactionIndex': 0,\n",
       "   'blockHash': HexBytes('0xec31b24c7eddabe692ca4596caab09015e096bde14b70a69a0bf4d3a2ea25fc2'),\n",
       "   'logIndex': 1,\n",
       "   'removed': False})],\n",
       " 'logsBloom': HexBytes('0x00000000000000000000000000000000000000000000000000000000000000000000000000000000000000000000000000000000000000000000000000200000000004000000000000000008000000000000000000800000000000000000000000000000000000000000000000000000000000000000000000000010000000000000000000000000000000400000000000000000000000000000000000000000020000000000000000000000000000000000000000000000400000000008000000000002000000000000000000000000020000000000000000000000000000000010000000000000000000000000000000000000000000000000000000000000'),\n",
       " 'status': 1,\n",
       " 'to': '0xEdCFC14D03d3aA8A8fF19170bb2F6231D99E1491',\n",
       " 'transactionHash': HexBytes('0x1504b264021ab31a804c60c3895a3944d9ad44e9079d34eb6816d5d819294fe5'),\n",
       " 'transactionIndex': 0,\n",
       " 'type': '0x0'})"
      ]
     },
     "execution_count": 41,
     "metadata": {},
     "output_type": "execute_result"
    }
   ],
   "source": [
    "#transfer tokens to another address from the current address\n",
    "transfer_amount = 900\n",
    "transfer_from_address = '0x55c9bBb71a5CC11c2f0c40362Bb691b33a78B764'\n",
    "transfer_to_address = '0x55c9bBb71a5CC11c2f0c40362Bb691b33a78B764'\n",
    "\n",
    "currency_module.transfer_from(transfer_from_address,transfer_to_address, transfer_amount)"
   ]
  },
  {
   "cell_type": "code",
   "execution_count": 49,
   "metadata": {},
   "outputs": [
    {
     "name": "stdout",
     "output_type": "stream",
     "text": [
      "[NftMetadata(name='nft1', description='', image='ipfs://bafkreidfkouid6zgubjjvv6hgxjv4srxqadtqmr3vwyyhparg77235maqy', properties={}, id=0, uri='ipfs://bafkreibohcs6a5qdqtrhs4aayxex53m4ljgbey4m2wtdzk4wgxcsr3m3oq'), NftMetadata(name='new nft!', description='NFT EXAMPLE', image='ipfs://QmdFeKxt6FJUNvaGgzYuYNRbpNWyHxP2PFzjsgPf1eD2Jf', properties={}, id=1, uri='ipfs://bafkreieupzdaoflb43aexdsmhsd26i33272dt7iwm7qfqleq5bz7n2vrqa'), NftMetadata(name='nft2', description='testingtesying', image='ipfs://bafkreibey43a7wvedzcbbspp42fwgwcbriy475vclqgkwbkn7bjbfuulzq', properties={'bgcolor': 'black'}, id=2, uri='ipfs://bafkreieysy3g52oglgjd3t2uwnsllhozsz2skleiyahc3ev3sbkzspid7y')]\n"
     ]
    }
   ],
   "source": [
    "#get the metadata for all nfts\n",
    "print(nft_module.get_all())"
   ]
  },
  {
   "cell_type": "code",
   "execution_count": 41,
   "metadata": {},
   "outputs": [
    {
     "name": "stdout",
     "output_type": "stream",
     "text": [
      "[NftMetadata(name='nft1', description='', image='ipfs://bafkreidfkouid6zgubjjvv6hgxjv4srxqadtqmr3vwyyhparg77235maqy', properties={}, id=0, uri='ipfs://bafkreibohcs6a5qdqtrhs4aayxex53m4ljgbey4m2wtdzk4wgxcsr3m3oq'), NftMetadata(name='new nft!', description='NFT EXAMPLE', image='ipfs://QmdFeKxt6FJUNvaGgzYuYNRbpNWyHxP2PFzjsgPf1eD2Jf', properties={}, id=1, uri='ipfs://bafkreieupzdaoflb43aexdsmhsd26i33272dt7iwm7qfqleq5bz7n2vrqa'), NftMetadata(name='nft2', description='testingtesying', image='ipfs://bafkreibey43a7wvedzcbbspp42fwgwcbriy475vclqgkwbkn7bjbfuulzq', properties={'bgcolor': 'black'}, id=2, uri='ipfs://bafkreieysy3g52oglgjd3t2uwnsllhozsz2skleiyahc3ev3sbkzspid7y')]\n"
     ]
    }
   ],
   "source": [
    "#who's the owner of an nft. \n",
    "\n",
    "print(nft_module.get_owned())"
   ]
  },
  {
   "cell_type": "code",
   "execution_count": 60,
   "metadata": {},
   "outputs": [
    {
     "ename": "TypeError",
     "evalue": "unhashable type: 'NftMetadata'",
     "output_type": "error",
     "traceback": [
      "\u001b[1;31m---------------------------------------------------------------------------\u001b[0m",
      "\u001b[1;31mTypeError\u001b[0m                                 Traceback (most recent call last)",
      "\u001b[1;32m~\\AppData\\Local\\Temp/ipykernel_2408/1372050338.py\u001b[0m in \u001b[0;36m<module>\u001b[1;34m\u001b[0m\n\u001b[0;32m      1\u001b[0m \u001b[1;31m#Returns the NFT with the given token id and owner\u001b[0m\u001b[1;33m\u001b[0m\u001b[1;33m\u001b[0m\u001b[1;33m\u001b[0m\u001b[0m\n\u001b[0;32m      2\u001b[0m \u001b[1;33m\u001b[0m\u001b[0m\n\u001b[1;32m----> 3\u001b[1;33m \u001b[0mprint\u001b[0m\u001b[1;33m(\u001b[0m\u001b[0mnft_module\u001b[0m\u001b[1;33m.\u001b[0m\u001b[0mget_with_owner\u001b[0m\u001b[1;33m(\u001b[0m\u001b[1;36m2\u001b[0m\u001b[1;33m,\u001b[0m\u001b[1;34m'0x55c9bbb71a5cc11c2f0c40362bb691b33a78b764'\u001b[0m\u001b[1;33m)\u001b[0m\u001b[1;33m)\u001b[0m\u001b[1;33m\u001b[0m\u001b[1;33m\u001b[0m\u001b[0m\n\u001b[0m",
      "\u001b[1;32mE:\\Anaconda\\envs\\web3\\lib\\site-packages\\nftlabs\\modules\\nft.py\u001b[0m in \u001b[0;36mget_with_owner\u001b[1;34m(self, token_id, owner)\u001b[0m\n\u001b[0;32m    263\u001b[0m         \u001b[0mowner\u001b[0m \u001b[1;33m=\u001b[0m \u001b[0mself\u001b[0m\u001b[1;33m.\u001b[0m\u001b[0mowner_of\u001b[0m\u001b[1;33m(\u001b[0m\u001b[0mtoken_id\u001b[0m\u001b[1;33m)\u001b[0m\u001b[1;33m\u001b[0m\u001b[1;33m\u001b[0m\u001b[0m\n\u001b[0;32m    264\u001b[0m         \u001b[0mmeta\u001b[0m \u001b[1;33m=\u001b[0m \u001b[0mself\u001b[0m\u001b[1;33m.\u001b[0m\u001b[0mget_metadata\u001b[0m\u001b[1;33m(\u001b[0m\u001b[0mtoken_id\u001b[0m\u001b[1;33m)\u001b[0m\u001b[1;33m\u001b[0m\u001b[1;33m\u001b[0m\u001b[0m\n\u001b[1;32m--> 265\u001b[1;33m         return {\n\u001b[0m\u001b[0;32m    266\u001b[0m             \u001b[0mowner\u001b[0m\u001b[1;33m:\u001b[0m \u001b[0mowner\u001b[0m\u001b[1;33m,\u001b[0m\u001b[1;33m\u001b[0m\u001b[1;33m\u001b[0m\u001b[0m\n\u001b[0;32m    267\u001b[0m             \u001b[0mmeta\u001b[0m\u001b[1;33m:\u001b[0m \u001b[0mmeta\u001b[0m\u001b[1;33m\u001b[0m\u001b[1;33m\u001b[0m\u001b[0m\n",
      "\u001b[1;31mTypeError\u001b[0m: unhashable type: 'NftMetadata'"
     ]
    }
   ],
   "source": [
    "#Returns the NFT with the given token id and owner\n",
    "\n",
    "#print(nft_module.get_with_owner(2,'0x55c9bbb71a5cc11c2f0c40362bb691b33a78b764'))"
   ]
  },
  {
   "cell_type": "code",
   "execution_count": 65,
   "metadata": {},
   "outputs": [
    {
     "name": "stdout",
     "output_type": "stream",
     "text": [
      "False\n"
     ]
    }
   ],
   "source": [
    "#this method checks whether the address is approved\n",
    "\n",
    "print(nft_module.is_approved('0x55c9bbb71a5cc11c2f0c40362bb691b33a78b764',operator=\"0x55c9bbb71a5cc11c2f0c40362bb691b33a78b764\"))"
   ]
  },
  {
   "cell_type": "code",
   "execution_count": 11,
   "metadata": {},
   "outputs": [
    {
     "name": "stderr",
     "output_type": "stream",
     "text": [
      "E:\\Anaconda\\envs\\web3\\lib\\site-packages\\web3\\contract.py:1168: UserWarning: The log with transaction hash: HexBytes('0x6c8813725b07b36ee8a5e8a5d2f6561e0f1e5af7092525634e9d19386deace91') and logIndex: 0 encountered the following error during processing: MismatchedABI(The event signature did not match the provided ABI). It has been discarded.\n",
      "  warnings.warn(\n"
     ]
    },
    {
     "data": {
      "text/plain": [
       "NftMetadata(name='new nft!', description='NFT EXAMPLE', image='ipfs://QmdFeKxt6FJUNvaGgzYuYNRbpNWyHxP2PFzjsgPf1eD2Jf', properties={}, id=1, uri='ipfs://bafkreieupzdaoflb43aexdsmhsd26i33272dt7iwm7qfqleq5bz7n2vrqa')"
      ]
     },
     "execution_count": 11,
     "metadata": {},
     "output_type": "execute_result"
    }
   ],
   "source": [
    "#Mint an NFT on your smartcontract\n",
    "#comment for 3dWeb: getting an error while minting\n",
    "#\n",
    "#HexBytes('0x847d80330b4d0bd59485d2cb31b552ae0a3a0cc25d74e6645a1fbfd0c280a234') and logIndex: 4 encountered the following error during processing: MismatchedABI(The event signature did not match the provided ABI). It has been discarded.\n",
    "#  warnings.warn(\n",
    "#NftMetadata(name='new nft!', description='NFT EXAMPLE', image='ipfs://QmdFeKxt6FJUNvaGgzYuYNRbpNWyHxP2PFzjsgPf1eD2Jf', properties={}, id=7, uri='ipfs://bafkreieupzdaoflb43aexdsmhsd26i33272dt7iwm7qfqleq5bz7n2vrqa')\n",
    "\n",
    "name_nft = \"new nft!\"\n",
    "description_nft = \"NFT EXAMPLE\"\n",
    "image_nft = \"ipfs://QmdFeKxt6FJUNvaGgzYuYNRbpNWyHxP2PFzjsgPf1eD2Jf\"\n",
    "prop = {}\n",
    "\n",
    "nft_module.mint(MintArg(name=name_nft, \n",
    "description=description_nft, \n",
    "image_uri=image_nft, \n",
    "properties=prop))\n"
   ]
  },
  {
   "cell_type": "code",
   "execution_count": 66,
   "metadata": {},
   "outputs": [
    {
     "name": "stderr",
     "output_type": "stream",
     "text": [
      "E:\\Anaconda\\envs\\web3\\lib\\site-packages\\web3\\contract.py:1168: UserWarning: The log with transaction hash: HexBytes('0xa8039f0e254775f03a69ee25a6569f08c120f51848a67656d8c2c25e07932782') and logIndex: 0 encountered the following error during processing: MismatchedABI(The event signature did not match the provided ABI). It has been discarded.\n",
      "  warnings.warn(\n",
      "E:\\Anaconda\\envs\\web3\\lib\\site-packages\\web3\\contract.py:1168: UserWarning: The log with transaction hash: HexBytes('0xa8039f0e254775f03a69ee25a6569f08c120f51848a67656d8c2c25e07932782') and logIndex: 1 encountered the following error during processing: MismatchedABI(The event signature did not match the provided ABI). It has been discarded.\n",
      "  warnings.warn(\n"
     ]
    },
    {
     "data": {
      "text/plain": [
       "[NftMetadata(name='new nft!', description='NFT EXAMPLE', image='ipfs://QmdFeKxt6FJUNvaGgzYuYNRbpNWyHxP2PFzjsgPf1eD2Jf', properties={}, id=3, uri='ipfs://bafkreieupzdaoflb43aexdsmhsd26i33272dt7iwm7qfqleq5bz7n2vrqa'),\n",
       " NftMetadata(name='new nft!', description='NFT EXAMPLE', image='ipfs://QmdFeKxt6FJUNvaGgzYuYNRbpNWyHxP2PFzjsgPf1eD2Jf', properties={}, id=4, uri='ipfs://bafkreieupzdaoflb43aexdsmhsd26i33272dt7iwm7qfqleq5bz7n2vrqa')]"
      ]
     },
     "execution_count": 66,
     "metadata": {},
     "output_type": "execute_result"
    }
   ],
   "source": [
    "#mint multiple nfts. For this you need to pass a list through the function 'mint_batch'\n",
    "\n",
    "name_nft = \"new nft!\"\n",
    "description_nft = \"NFT EXAMPLE\"\n",
    "image_nft = \"ipfs://QmdFeKxt6FJUNvaGgzYuYNRbpNWyHxP2PFzjsgPf1eD2Jf\"\n",
    "prop = {}\n",
    "\n",
    "nft_module.mint_batch([\n",
    "MintArg(name=name_nft, \n",
    "description=description_nft, \n",
    "image_uri=image_nft, \n",
    "properties=prop),\n",
    "MintArg(name=name_nft, \n",
    "description=description_nft, \n",
    "image_uri=image_nft, \n",
    "properties=prop)\n",
    "])\n",
    "\n"
   ]
  },
  {
   "cell_type": "code",
   "execution_count": 67,
   "metadata": {},
   "outputs": [
    {
     "name": "stderr",
     "output_type": "stream",
     "text": [
      "E:\\Anaconda\\envs\\web3\\lib\\site-packages\\web3\\contract.py:1168: UserWarning: The log with transaction hash: HexBytes('0x9305becadadcce82561d5a80595913a464d2bcfe4b0bcb778a30ea69e166d94b') and logIndex: 1 encountered the following error during processing: MismatchedABI(The event signature did not match the provided ABI). It has been discarded.\n",
      "  warnings.warn(\n"
     ]
    },
    {
     "data": {
      "text/plain": [
       "NftMetadata(name='new nft!', description='NFT EXAMPLE', image='ipfs://QmdFeKxt6FJUNvaGgzYuYNRbpNWyHxP2PFzjsgPf1eD2Jf', properties={}, id=5, uri='ipfs://bafkreieupzdaoflb43aexdsmhsd26i33272dt7iwm7qfqleq5bz7n2vrqa')"
      ]
     },
     "execution_count": 67,
     "metadata": {},
     "output_type": "execute_result"
    }
   ],
   "source": [
    "#mint and transfer\n",
    "\n",
    "name_nft = \"new nft!\"\n",
    "description_nft = \"NFT EXAMPLE\"\n",
    "image_nft = \"ipfs://QmdFeKxt6FJUNvaGgzYuYNRbpNWyHxP2PFzjsgPf1eD2Jf\"\n",
    "prop = {}\n",
    "\n",
    "nft_module.mint_to(\n",
    "    '0x55c9bbb71a5cc11c2f0c40362bb691b33a78b764',\n",
    "    MintArg(name=name_nft, \n",
    "description=description_nft, \n",
    "image_uri=image_nft, \n",
    "properties=prop)\n",
    ")"
   ]
  },
  {
   "cell_type": "code",
   "execution_count": 69,
   "metadata": {},
   "outputs": [
    {
     "name": "stderr",
     "output_type": "stream",
     "text": [
      "E:\\Anaconda\\envs\\web3\\lib\\site-packages\\web3\\contract.py:1168: UserWarning: The log with transaction hash: HexBytes('0xe48472b90eacd76b047337e5afca1232406954690842c66a260d023710cc8437') and logIndex: 0 encountered the following error during processing: MismatchedABI(The event signature did not match the provided ABI). It has been discarded.\n",
      "  warnings.warn(\n",
      "E:\\Anaconda\\envs\\web3\\lib\\site-packages\\web3\\contract.py:1168: UserWarning: The log with transaction hash: HexBytes('0xe48472b90eacd76b047337e5afca1232406954690842c66a260d023710cc8437') and logIndex: 1 encountered the following error during processing: MismatchedABI(The event signature did not match the provided ABI). It has been discarded.\n",
      "  warnings.warn(\n"
     ]
    },
    {
     "data": {
      "text/plain": [
       "[NftMetadata(name='new nft!', description='NFT EXAMPLE', image='ipfs://QmdFeKxt6FJUNvaGgzYuYNRbpNWyHxP2PFzjsgPf1eD2Jf', properties={}, id=6, uri='ipfs://bafkreieupzdaoflb43aexdsmhsd26i33272dt7iwm7qfqleq5bz7n2vrqa'),\n",
       " NftMetadata(name='new nft!', description='NFT EXAMPLE', image='ipfs://QmdFeKxt6FJUNvaGgzYuYNRbpNWyHxP2PFzjsgPf1eD2Jf', properties={}, id=7, uri='ipfs://bafkreieupzdaoflb43aexdsmhsd26i33272dt7iwm7qfqleq5bz7n2vrqa')]"
      ]
     },
     "execution_count": 69,
     "metadata": {},
     "output_type": "execute_result"
    }
   ],
   "source": [
    "#mint multiple nfts and transfer to address\n",
    "\n",
    "name_nft = \"new nft!\"\n",
    "description_nft = \"NFT EXAMPLE\"\n",
    "image_nft = \"ipfs://QmdFeKxt6FJUNvaGgzYuYNRbpNWyHxP2PFzjsgPf1eD2Jf\"\n",
    "prop = {}\n",
    "\n",
    "nft_module.mint_batch_to(\n",
    "    '0x55c9bbb71a5cc11c2f0c40362bb691b33a78b764',\n",
    "    [\n",
    "MintArg(name=name_nft, \n",
    "description=description_nft, \n",
    "image_uri=image_nft, \n",
    "properties=prop),\n",
    "MintArg(name=name_nft, \n",
    "description=description_nft, \n",
    "image_uri=image_nft, \n",
    "properties=prop)\n",
    "]\n",
    ")\n"
   ]
  },
  {
   "cell_type": "code",
   "execution_count": null,
   "metadata": {},
   "outputs": [],
   "source": [
    "#we need to know operator for this function\n",
    "# def set_approval(self, operator, approved=True):\n",
    "# Sets approval for specified operator, defaults to grant approval\n",
    "# Parameters\n",
    "# operator:str\tUndocumented\n",
    "# approved:bool"
   ]
  },
  {
   "cell_type": "code",
   "execution_count": null,
   "metadata": {},
   "outputs": [],
   "source": [
    "#define and set metadata for a module\n",
    "def set_module_metadata(self, metadata):\n",
    "#Sets the metadata for the module\n",
    "#Parameters\n",
    "#metadata:str"
   ]
  },
  {
   "cell_type": "code",
   "execution_count": null,
   "metadata": {},
   "outputs": [],
   "source": [
    "#need an explanation for this function\n",
    "# def set_restricted_transfer(self, restricted=False):\n",
    "# Sets the restricted transfer flag\n",
    "# Parameters\n",
    "# restricted:bool"
   ]
  },
  {
   "cell_type": "code",
   "execution_count": null,
   "metadata": {},
   "outputs": [
    {
     "name": "stdout",
     "output_type": "stream",
     "text": [
      "6002000000000000001000\n"
     ]
    }
   ],
   "source": [
    "#enter currency amount to be minted\n",
    "# amount = 1000\n",
    "\n",
    "# currency_module.mint(amount* (10**18))\n",
    "# print(currency_module.balance())"
   ]
  },
  {
   "cell_type": "code",
   "execution_count": 12,
   "metadata": {},
   "outputs": [
    {
     "ename": "NameError",
     "evalue": "name 'currency_module' is not defined",
     "output_type": "error",
     "traceback": [
      "\u001b[1;31m---------------------------------------------------------------------------\u001b[0m",
      "\u001b[1;31mNameError\u001b[0m                                 Traceback (most recent call last)",
      "\u001b[1;32m~\\AppData\\Local\\Temp/ipykernel_2408/1687095937.py\u001b[0m in \u001b[0;36m<module>\u001b[1;34m\u001b[0m\n\u001b[0;32m      3\u001b[0m \u001b[1;33m\u001b[0m\u001b[0m\n\u001b[0;32m      4\u001b[0m \u001b[1;31m#burn tokens\u001b[0m\u001b[1;33m\u001b[0m\u001b[1;33m\u001b[0m\u001b[1;33m\u001b[0m\u001b[0m\n\u001b[1;32m----> 5\u001b[1;33m \u001b[0mcurrency_module\u001b[0m\u001b[1;33m.\u001b[0m\u001b[0mburn\u001b[0m\u001b[1;33m(\u001b[0m\u001b[0mburn_amount\u001b[0m\u001b[1;33m*\u001b[0m \u001b[1;33m(\u001b[0m\u001b[1;36m10\u001b[0m\u001b[1;33m**\u001b[0m\u001b[1;36m18\u001b[0m\u001b[1;33m)\u001b[0m\u001b[1;33m)\u001b[0m\u001b[1;33m\u001b[0m\u001b[1;33m\u001b[0m\u001b[0m\n\u001b[0m\u001b[0;32m      6\u001b[0m \u001b[0mprint\u001b[0m\u001b[1;33m(\u001b[0m\u001b[0mcurrency_module\u001b[0m\u001b[1;33m.\u001b[0m\u001b[0mbalance\u001b[0m\u001b[1;33m(\u001b[0m\u001b[1;33m)\u001b[0m\u001b[1;33m)\u001b[0m\u001b[1;33m\u001b[0m\u001b[1;33m\u001b[0m\u001b[0m\n",
      "\u001b[1;31mNameError\u001b[0m: name 'currency_module' is not defined"
     ]
    }
   ],
   "source": [
    "#enter the amount of tokens to be burned\n",
    "# burn_amount = 500\n",
    "\n",
    "# #burn tokens\n",
    "# currency_module.burn(burn_amount* (10**18))\n",
    "# print(currency_module.balance())"
   ]
  },
  {
   "cell_type": "code",
   "execution_count": 47,
   "metadata": {},
   "outputs": [
    {
     "data": {
      "text/plain": [
       "{'admin': ['0x55c9bBb71a5CC11c2f0c40362Bb691b33a78B764'],\n",
       " 'minter': ['0x55c9bBb71a5CC11c2f0c40362Bb691b33a78B764'],\n",
       " 'transfer': ['0x55c9bBb71a5CC11c2f0c40362Bb691b33a78B764'],\n",
       " 'pauser': ['0x55c9bBb71a5CC11c2f0c40362Bb691b33a78B764']}"
      ]
     },
     "execution_count": 47,
     "metadata": {},
     "output_type": "execute_result"
    }
   ],
   "source": [
    "#get all the role members in this module\n",
    "currency_module.get_all_role_members()"
   ]
  },
  {
   "cell_type": "code",
   "execution_count": 48,
   "metadata": {},
   "outputs": [
    {
     "ename": "AttributeError",
     "evalue": "'CurrencyModule' object has no attribute 'get_role_member_count'",
     "output_type": "error",
     "traceback": [
      "\u001b[0;31m---------------------------------------------------------------------------\u001b[0m",
      "\u001b[0;31mAttributeError\u001b[0m                            Traceback (most recent call last)",
      "\u001b[0;32m/var/folders/l3/dpyd7nqs0rbgc41kg_f75sym0000gn/T/ipykernel_3640/492005244.py\u001b[0m in \u001b[0;36m<module>\u001b[0;34m\u001b[0m\n\u001b[1;32m      1\u001b[0m \u001b[0;31m#get rol count for a specific rol. Shouldn't this method exist for this module?\u001b[0m\u001b[0;34m\u001b[0m\u001b[0;34m\u001b[0m\u001b[0;34m\u001b[0m\u001b[0m\n\u001b[1;32m      2\u001b[0m \u001b[0mrole_currency\u001b[0m \u001b[0;34m=\u001b[0m \u001b[0;34m'admin'\u001b[0m\u001b[0;34m\u001b[0m\u001b[0;34m\u001b[0m\u001b[0m\n\u001b[0;32m----> 3\u001b[0;31m \u001b[0mcurrency_module\u001b[0m\u001b[0;34m.\u001b[0m\u001b[0mget_role_member_count\u001b[0m\u001b[0;34m(\u001b[0m\u001b[0mrole_currency\u001b[0m\u001b[0;34m)\u001b[0m\u001b[0;34m\u001b[0m\u001b[0;34m\u001b[0m\u001b[0m\n\u001b[0m",
      "\u001b[0;31mAttributeError\u001b[0m: 'CurrencyModule' object has no attribute 'get_role_member_count'"
     ]
    }
   ],
   "source": [
    "#get rol count for a specific rol. Shouldn't this method exist for this module?\n",
    "role_currency = 'admin'\n",
    "currency_module.get_role_member_count(role_currency)"
   ]
  },
  {
   "cell_type": "code",
   "execution_count": 49,
   "metadata": {},
   "outputs": [
    {
     "ename": "AttributeError",
     "evalue": "'str' object has no attribute 'get_hash'",
     "output_type": "error",
     "traceback": [
      "\u001b[0;31m---------------------------------------------------------------------------\u001b[0m",
      "\u001b[0;31mAttributeError\u001b[0m                            Traceback (most recent call last)",
      "\u001b[0;32m/var/folders/l3/dpyd7nqs0rbgc41kg_f75sym0000gn/T/ipykernel_3640/3949601653.py\u001b[0m in \u001b[0;36m<module>\u001b[0;34m\u001b[0m\n\u001b[1;32m      1\u001b[0m \u001b[0;31m#gets the members(wallets) who have a specific role\u001b[0m\u001b[0;34m\u001b[0m\u001b[0;34m\u001b[0m\u001b[0;34m\u001b[0m\u001b[0m\n\u001b[1;32m      2\u001b[0m \u001b[0mrole_member\u001b[0m \u001b[0;34m=\u001b[0m \u001b[0;34m'admin'\u001b[0m\u001b[0;34m\u001b[0m\u001b[0;34m\u001b[0m\u001b[0m\n\u001b[0;32m----> 3\u001b[0;31m \u001b[0mcurrency_module\u001b[0m\u001b[0;34m.\u001b[0m\u001b[0mget_role_members\u001b[0m\u001b[0;34m(\u001b[0m\u001b[0mrole_member\u001b[0m\u001b[0;34m)\u001b[0m\u001b[0;34m\u001b[0m\u001b[0;34m\u001b[0m\u001b[0m\n\u001b[0m",
      "\u001b[0;32m~/miniforge3/envs/nft/lib/python3.8/site-packages/nftlabs/modules/currency.py\u001b[0m in \u001b[0;36mget_role_members\u001b[0;34m(self, role)\u001b[0m\n\u001b[1;32m    145\u001b[0m         \u001b[0mGets\u001b[0m \u001b[0mthe\u001b[0m \u001b[0mmembers\u001b[0m \u001b[0mof\u001b[0m \u001b[0mthe\u001b[0m \u001b[0mgiven\u001b[0m \u001b[0mrole\u001b[0m\u001b[0;34m\u001b[0m\u001b[0;34m\u001b[0m\u001b[0m\n\u001b[1;32m    146\u001b[0m         \"\"\"\n\u001b[0;32m--> 147\u001b[0;31m         \u001b[0mrole_hash\u001b[0m \u001b[0;34m=\u001b[0m \u001b[0mrole\u001b[0m\u001b[0;34m.\u001b[0m\u001b[0mget_hash\u001b[0m\u001b[0;34m(\u001b[0m\u001b[0;34m)\u001b[0m\u001b[0;34m\u001b[0m\u001b[0;34m\u001b[0m\u001b[0m\n\u001b[0m\u001b[1;32m    148\u001b[0m         \u001b[0mcount\u001b[0m \u001b[0;34m=\u001b[0m \u001b[0mself\u001b[0m\u001b[0;34m.\u001b[0m\u001b[0m__abi_module\u001b[0m\u001b[0;34m.\u001b[0m\u001b[0mget_role_member_count\u001b[0m\u001b[0;34m.\u001b[0m\u001b[0mcall\u001b[0m\u001b[0;34m(\u001b[0m\u001b[0mrole_hash\u001b[0m\u001b[0;34m)\u001b[0m\u001b[0;34m\u001b[0m\u001b[0;34m\u001b[0m\u001b[0m\n\u001b[1;32m    149\u001b[0m         \u001b[0;32mreturn\u001b[0m \u001b[0;34m[\u001b[0m\u001b[0mself\u001b[0m\u001b[0;34m.\u001b[0m\u001b[0m__abi_module\u001b[0m\u001b[0;34m.\u001b[0m\u001b[0mget_role_member\u001b[0m\u001b[0;34m.\u001b[0m\u001b[0mcall\u001b[0m\u001b[0;34m(\u001b[0m\u001b[0mrole_hash\u001b[0m\u001b[0;34m,\u001b[0m \u001b[0mi\u001b[0m\u001b[0;34m)\u001b[0m \u001b[0;32mfor\u001b[0m \u001b[0mi\u001b[0m \u001b[0;32min\u001b[0m \u001b[0mrange\u001b[0m\u001b[0;34m(\u001b[0m\u001b[0mcount\u001b[0m\u001b[0;34m)\u001b[0m\u001b[0;34m]\u001b[0m\u001b[0;34m\u001b[0m\u001b[0;34m\u001b[0m\u001b[0m\n",
      "\u001b[0;31mAttributeError\u001b[0m: 'str' object has no attribute 'get_hash'"
     ]
    }
   ],
   "source": [
    "#gets the members(wallets) who have a specific role\n",
    "role_member = 'admin'\n",
    "currency_module.get_role_members(role_member)"
   ]
  }
 ],
 "metadata": {
  "interpreter": {
   "hash": "a2d3aaee4560012b18958894f21c6dab05acf2cbe4b1b644ee955ae7df40fd79"
  },
  "kernelspec": {
   "display_name": "Python 3 (ipykernel)",
   "language": "python",
   "name": "python3"
  },
  "language_info": {
   "codemirror_mode": {
    "name": "ipython",
    "version": 3
   },
   "file_extension": ".py",
   "mimetype": "text/x-python",
   "name": "python",
   "nbconvert_exporter": "python",
   "pygments_lexer": "ipython3",
   "version": "3.9.7"
  }
 },
 "nbformat": 4,
 "nbformat_minor": 2
}
