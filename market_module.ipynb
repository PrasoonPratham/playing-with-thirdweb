{
 "cells": [
  {
   "cell_type": "code",
   "execution_count": 55,
   "metadata": {},
   "outputs": [],
   "source": [
    "# Importing stuff\n",
    "from thirdweb import ThirdwebSdk, SdkOptions, ListArg, MintArg, Role\n",
    "import os"
   ]
  },
  {
   "cell_type": "markdown",
   "metadata": {},
   "source": []
  },
  {
   "cell_type": "code",
   "execution_count": 56,
   "metadata": {},
   "outputs": [],
   "source": [
    "#choose your network\n",
    "\n",
    "network = \"https://rinkeby-light.eth.linkpool.io/\"\n",
    "sdk = ThirdwebSdk(SdkOptions(), network)\n",
    "#dont forget to hide your private key\n",
    "sdk.set_private_key(\"a0064ca30a15d338590d95fc7d1e87f889d11fe31897340b391674e84d49f1ee\")"
   ]
  },
  {
   "cell_type": "code",
   "execution_count": 57,
   "metadata": {},
   "outputs": [],
   "source": [
    "#pick your module and enter the smart contract address\n",
    "market_module_address = \"0x56c1F1f63dC507F24495E5fD56003D56FD12A7F9\"\n",
    "market_module = sdk.get_market_module(market_module_address)"
   ]
  },
  {
   "cell_type": "code",
   "execution_count": 58,
   "metadata": {},
   "outputs": [
    {
     "data": {
      "text/plain": [
       "MarketListing(listingId=0, seller='0x55c9bBb71a5CC11c2f0c40362Bb691b33a78B764', assetContract='0xdd25FAEE772FbB1bcB7ba0b2cEE6387A8F82f032', tokenId=0, quantity=1, currency='0x56c1F1f63dC507F24495E5fD56003D56FD12A7F9', pricePerToken=300, saleStart=1636304343, saleEnd=115792089237316195423570985008687907853269984665640564039457584007913129639935, tokensPerBuyer=1, tokenType=1)"
      ]
     },
     "execution_count": 58,
     "metadata": {},
     "output_type": "execute_result"
    }
   ],
   "source": [
    "#get a listing from the marketplace by passing the ID\n",
    "market_module.get(0)"
   ]
  },
  {
   "cell_type": "code",
   "execution_count": 59,
   "metadata": {},
   "outputs": [
    {
     "data": {
      "text/plain": [
       "[{'listingId': 0,\n",
       "  'seller': '0x55c9bBb71a5CC11c2f0c40362Bb691b33a78B764',\n",
       "  'assetContract': '0xdd25FAEE772FbB1bcB7ba0b2cEE6387A8F82f032',\n",
       "  'tokenId': 0,\n",
       "  'quantity': 1,\n",
       "  'currency': '0x56c1F1f63dC507F24495E5fD56003D56FD12A7F9',\n",
       "  'pricePerToken': 300,\n",
       "  'saleStart': 1636304343,\n",
       "  'saleEnd': 115792089237316195423570985008687907853269984665640564039457584007913129639935,\n",
       "  'tokensPerBuyer': 1,\n",
       "  'tokenType': 1},\n",
       " {'listingId': 1,\n",
       "  'seller': '0x55c9bBb71a5CC11c2f0c40362Bb691b33a78B764',\n",
       "  'assetContract': '0xdd25FAEE772FbB1bcB7ba0b2cEE6387A8F82f032',\n",
       "  'tokenId': 2,\n",
       "  'quantity': 0,\n",
       "  'currency': '0x56c1F1f63dC507F24495E5fD56003D56FD12A7F9',\n",
       "  'pricePerToken': 350,\n",
       "  'saleStart': 1636305364,\n",
       "  'saleEnd': 115792089237316195423570985008687907853269984665640564039457584007913129639935,\n",
       "  'tokensPerBuyer': 1,\n",
       "  'tokenType': 1}]"
      ]
     },
     "execution_count": 59,
     "metadata": {},
     "output_type": "execute_result"
    }
   ],
   "source": [
    "#get all the listings in the market place. You can pass an argument to filter the listings. If no argument for filter is passed then filter is set to none\n",
    "market_module.get_all()"
   ]
  },
  {
   "cell_type": "code",
   "execution_count": 54,
   "metadata": {},
   "outputs": [
    {
     "data": {
      "text/plain": [
       "[{'listingId': 0,\n",
       "  'seller': '0x55c9bBb71a5CC11c2f0c40362Bb691b33a78B764',\n",
       "  'assetContract': '0xdd25FAEE772FbB1bcB7ba0b2cEE6387A8F82f032',\n",
       "  'tokenId': 0,\n",
       "  'quantity': 1,\n",
       "  'currency': '0x56c1F1f63dC507F24495E5fD56003D56FD12A7F9',\n",
       "  'pricePerToken': 300,\n",
       "  'saleStart': 1636304343,\n",
       "  'saleEnd': 115792089237316195423570985008687907853269984665640564039457584007913129639935,\n",
       "  'tokensPerBuyer': 1,\n",
       "  'tokenType': 1},\n",
       " {'listingId': 1,\n",
       "  'seller': '0x55c9bBb71a5CC11c2f0c40362Bb691b33a78B764',\n",
       "  'assetContract': '0xdd25FAEE772FbB1bcB7ba0b2cEE6387A8F82f032',\n",
       "  'tokenId': 2,\n",
       "  'quantity': 0,\n",
       "  'currency': '0x56c1F1f63dC507F24495E5fD56003D56FD12A7F9',\n",
       "  'pricePerToken': 350,\n",
       "  'saleStart': 1636305364,\n",
       "  'saleEnd': 115792089237316195423570985008687907853269984665640564039457584007913129639935,\n",
       "  'tokensPerBuyer': 1,\n",
       "  'tokenType': 1}]"
      ]
     },
     "execution_count": 54,
     "metadata": {},
     "output_type": "execute_result"
    }
   ],
   "source": [
    "#method to get all listings. How is this different than the method before\n",
    "market_module.get_all_listings()"
   ]
  },
  {
   "cell_type": "code",
   "execution_count": 53,
   "metadata": {},
   "outputs": [
    {
     "data": {
      "text/plain": [
       "MarketListing(listingId=0, seller='0x55c9bBb71a5CC11c2f0c40362Bb691b33a78B764', assetContract='0xdd25FAEE772FbB1bcB7ba0b2cEE6387A8F82f032', tokenId=0, quantity=1, currency='0x56c1F1f63dC507F24495E5fD56003D56FD12A7F9', pricePerToken=300, saleStart=1636304343, saleEnd=115792089237316195423570985008687907853269984665640564039457584007913129639935, tokensPerBuyer=1, tokenType=1)"
      ]
     },
     "execution_count": 53,
     "metadata": {},
     "output_type": "execute_result"
    }
   ],
   "source": [
    "#get a specific listing from the market place\n",
    "market_module.get_listing(0)"
   ]
  },
  {
   "cell_type": "code",
   "execution_count": 1,
   "metadata": {},
   "outputs": [
    {
     "ename": "NameError",
     "evalue": "name 'market_module' is not defined",
     "output_type": "error",
     "traceback": [
      "\u001b[0;31m---------------------------------------------------------------------------\u001b[0m",
      "\u001b[0;31mNameError\u001b[0m                                 Traceback (most recent call last)",
      "\u001b[0;32m/var/folders/l3/dpyd7nqs0rbgc41kg_f75sym0000gn/T/ipykernel_5954/3173363909.py\u001b[0m in \u001b[0;36m<module>\u001b[0;34m\u001b[0m\n\u001b[1;32m      1\u001b[0m \u001b[0;31m#list an asset in the marketplace\u001b[0m\u001b[0;34m\u001b[0m\u001b[0;34m\u001b[0m\u001b[0;34m\u001b[0m\u001b[0m\n\u001b[1;32m      2\u001b[0m \u001b[0;31m#what arguments should be passed for the listarg\u001b[0m\u001b[0;34m\u001b[0m\u001b[0;34m\u001b[0m\u001b[0;34m\u001b[0m\u001b[0m\n\u001b[0;32m----> 3\u001b[0;31m \u001b[0mmarket_module\u001b[0m\u001b[0;34m.\u001b[0m\u001b[0mlist\u001b[0m\u001b[0;34m(\u001b[0m\u001b[0mListArg\u001b[0m\u001b[0;34m(\u001b[0m\u001b[0masset_contract\u001b[0m\u001b[0;34m=\u001b[0m\u001b[0;34m\"0x5a5D758636e44767afAc67184B2249F5DBcACb8f\"\u001b[0m\u001b[0;34m,\u001b[0m\u001b[0mtoken_id\u001b[0m\u001b[0;34m=\u001b[0m\u001b[0;36m1\u001b[0m\u001b[0;34m,\u001b[0m \u001b[0mcurrency_contract\u001b[0m\u001b[0;34m=\u001b[0m\u001b[0;34m\"0x75b37A3EDB89bedF68D7866e4c539f914F7A985c\"\u001b[0m\u001b[0;34m,\u001b[0m \u001b[0mprice_per_token\u001b[0m\u001b[0;34m=\u001b[0m\u001b[0;36m5000000000000000000\u001b[0m\u001b[0;34m,\u001b[0m \u001b[0mquantity\u001b[0m\u001b[0;34m=\u001b[0m\u001b[0;36m1\u001b[0m\u001b[0;34m,\u001b[0m \u001b[0mtokens_per_buyer\u001b[0m\u001b[0;34m=\u001b[0m\u001b[0;36m1\u001b[0m\u001b[0;34m,\u001b[0m  \u001b[0mseconds_until_start\u001b[0m\u001b[0;34m=\u001b[0m\u001b[0;36m30\u001b[0m\u001b[0;34m,\u001b[0m \u001b[0mseconds_until_end\u001b[0m\u001b[0;34m=\u001b[0m\u001b[0;36m3600\u001b[0m\u001b[0;34m)\u001b[0m\u001b[0;34m)\u001b[0m\u001b[0;34m\u001b[0m\u001b[0;34m\u001b[0m\u001b[0m\n\u001b[0m",
      "\u001b[0;31mNameError\u001b[0m: name 'market_module' is not defined"
     ]
    }
   ],
   "source": [
    "#list an asset in the marketplace\n",
    "#what arguments should be passed for the listarg\n",
    "market_module.list(ListArg(asset_contract=\"0x5a5D758636e44767afAc67184B2249F5DBcACb8f\",token_id=1, currency_contract=\"0x75b37A3EDB89bedF68D7866e4c539f914F7A985c\", price_per_token=5000000000000000000, quantity=1, tokens_per_buyer=1,  seconds_until_start=30, seconds_until_end=3600))\n",
    "\n",
    "\n",
    "market_module.set_market_fee_bps(10 * 100)"
   ]
  },
  {
   "cell_type": "code",
   "execution_count": 50,
   "metadata": {},
   "outputs": [],
   "source": [
    "#def set_market_fee_bps(self, amount):\n",
    "# Set the market fee in basis points.\n",
    "# Parameters\n",
    "# amount:int\tUndocumented\n",
    "# def set_module_metadata(self, metadata):\n",
    "# Sets the metadata for the module\n",
    "# Parameters\n",
    "# metadata:str"
   ]
  },
  {
   "cell_type": "code",
   "execution_count": 61,
   "metadata": {},
   "outputs": [
    {
     "data": {
      "text/plain": [
       "2"
      ]
     },
     "execution_count": 61,
     "metadata": {},
     "output_type": "execute_result"
    }
   ],
   "source": [
    "#get the total supply on the marketplace\n",
    "market_module.total_listings()"
   ]
  },
  {
   "cell_type": "code",
   "execution_count": 26,
   "metadata": {},
   "outputs": [],
   "source": [
    "#unlist an asset from the marketpalce\n",
    "\n",
    "market_module.unlist(1,1)"
   ]
  },
  {
   "cell_type": "code",
   "execution_count": 63,
   "metadata": {},
   "outputs": [
    {
     "ename": "ContractLogicError",
     "evalue": "execution reverted: Market: Cannot unlist more than one of an ERC 721 NFT.",
     "output_type": "error",
     "traceback": [
      "\u001b[0;31m---------------------------------------------------------------------------\u001b[0m",
      "\u001b[0;31mContractLogicError\u001b[0m                        Traceback (most recent call last)",
      "\u001b[0;32m/var/folders/l3/dpyd7nqs0rbgc41kg_f75sym0000gn/T/ipykernel_4264/4168821801.py\u001b[0m in \u001b[0;36m<module>\u001b[0;34m\u001b[0m\n\u001b[1;32m      1\u001b[0m \u001b[0;31m#unlist all nfts from market place\u001b[0m\u001b[0;34m\u001b[0m\u001b[0;34m\u001b[0m\u001b[0;34m\u001b[0m\u001b[0m\n\u001b[1;32m      2\u001b[0m \u001b[0masset_id\u001b[0m \u001b[0;34m=\u001b[0m \u001b[0;36m1\u001b[0m\u001b[0;34m\u001b[0m\u001b[0;34m\u001b[0m\u001b[0m\n\u001b[0;32m----> 3\u001b[0;31m \u001b[0mmarket_module\u001b[0m\u001b[0;34m.\u001b[0m\u001b[0munlist_all\u001b[0m\u001b[0;34m(\u001b[0m\u001b[0masset_id\u001b[0m\u001b[0;34m)\u001b[0m\u001b[0;34m\u001b[0m\u001b[0;34m\u001b[0m\u001b[0m\n\u001b[0m",
      "\u001b[0;32m~/miniforge3/envs/nft/lib/python3.8/site-packages/nftlabs/modules/market.py\u001b[0m in \u001b[0;36munlist_all\u001b[0;34m(self, listing_id)\u001b[0m\n\u001b[1;32m     86\u001b[0m         \u001b[0mUnlist\u001b[0m \u001b[0man\u001b[0m \u001b[0masset\u001b[0m \u001b[0;32mfor\u001b[0m \u001b[0msale\u001b[0m\u001b[0;34m.\u001b[0m\u001b[0;34m\u001b[0m\u001b[0;34m\u001b[0m\u001b[0m\n\u001b[1;32m     87\u001b[0m         \"\"\"\n\u001b[0;32m---> 88\u001b[0;31m         \u001b[0mself\u001b[0m\u001b[0;34m.\u001b[0m\u001b[0munlist\u001b[0m\u001b[0;34m(\u001b[0m\u001b[0mlisting_id\u001b[0m\u001b[0;34m,\u001b[0m \u001b[0mself\u001b[0m\u001b[0;34m.\u001b[0m\u001b[0mget\u001b[0m\u001b[0;34m(\u001b[0m\u001b[0mlisting_id\u001b[0m\u001b[0;34m)\u001b[0m\u001b[0;34m.\u001b[0m\u001b[0mquantity\u001b[0m\u001b[0;34m)\u001b[0m\u001b[0;34m\u001b[0m\u001b[0;34m\u001b[0m\u001b[0m\n\u001b[0m\u001b[1;32m     89\u001b[0m \u001b[0;34m\u001b[0m\u001b[0m\n\u001b[1;32m     90\u001b[0m     \u001b[0;32mdef\u001b[0m \u001b[0mbuy\u001b[0m\u001b[0;34m(\u001b[0m\u001b[0mself\u001b[0m\u001b[0;34m,\u001b[0m \u001b[0mlisting_id\u001b[0m\u001b[0;34m:\u001b[0m \u001b[0mint\u001b[0m\u001b[0;34m,\u001b[0m \u001b[0mquantity\u001b[0m\u001b[0;34m:\u001b[0m \u001b[0mint\u001b[0m\u001b[0;34m)\u001b[0m\u001b[0;34m:\u001b[0m\u001b[0;34m\u001b[0m\u001b[0;34m\u001b[0m\u001b[0m\n",
      "\u001b[0;32m~/miniforge3/envs/nft/lib/python3.8/site-packages/nftlabs/modules/market.py\u001b[0m in \u001b[0;36munlist\u001b[0;34m(self, listing_id, quantity)\u001b[0m\n\u001b[1;32m     75\u001b[0m         \u001b[0mUnlist\u001b[0m \u001b[0man\u001b[0m \u001b[0masset\u001b[0m \u001b[0;32mfor\u001b[0m \u001b[0msale\u001b[0m\u001b[0;34m.\u001b[0m\u001b[0;34m\u001b[0m\u001b[0;34m\u001b[0m\u001b[0m\n\u001b[1;32m     76\u001b[0m         \"\"\"\n\u001b[0;32m---> 77\u001b[0;31m         tx = self.__abi_module.unlist.build_transaction(\n\u001b[0m\u001b[1;32m     78\u001b[0m             \u001b[0mlisting_id\u001b[0m\u001b[0;34m,\u001b[0m\u001b[0;34m\u001b[0m\u001b[0;34m\u001b[0m\u001b[0m\n\u001b[1;32m     79\u001b[0m             \u001b[0mquantity\u001b[0m\u001b[0;34m,\u001b[0m\u001b[0;34m\u001b[0m\u001b[0;34m\u001b[0m\u001b[0m\n",
      "\u001b[0;32m~/miniforge3/envs/nft/lib/python3.8/site-packages/nftlabs/abi/market/__init__.py\u001b[0m in \u001b[0;36mbuild_transaction\u001b[0;34m(self, listing_id, quantity, tx_params)\u001b[0m\n\u001b[1;32m   1251\u001b[0m         \u001b[0;34m(\u001b[0m\u001b[0mlisting_id\u001b[0m\u001b[0;34m,\u001b[0m \u001b[0mquantity\u001b[0m\u001b[0;34m)\u001b[0m \u001b[0;34m=\u001b[0m \u001b[0mself\u001b[0m\u001b[0;34m.\u001b[0m\u001b[0mvalidate_and_normalize_inputs\u001b[0m\u001b[0;34m(\u001b[0m\u001b[0mlisting_id\u001b[0m\u001b[0;34m,\u001b[0m \u001b[0mquantity\u001b[0m\u001b[0;34m)\u001b[0m\u001b[0;34m\u001b[0m\u001b[0;34m\u001b[0m\u001b[0m\n\u001b[1;32m   1252\u001b[0m         \u001b[0mtx_params\u001b[0m \u001b[0;34m=\u001b[0m \u001b[0msuper\u001b[0m\u001b[0;34m(\u001b[0m\u001b[0;34m)\u001b[0m\u001b[0;34m.\u001b[0m\u001b[0mnormalize_tx_params\u001b[0m\u001b[0;34m(\u001b[0m\u001b[0mtx_params\u001b[0m\u001b[0;34m)\u001b[0m\u001b[0;34m\u001b[0m\u001b[0;34m\u001b[0m\u001b[0m\n\u001b[0;32m-> 1253\u001b[0;31m         \u001b[0;32mreturn\u001b[0m \u001b[0mself\u001b[0m\u001b[0;34m.\u001b[0m\u001b[0m_underlying_method\u001b[0m\u001b[0;34m(\u001b[0m\u001b[0mlisting_id\u001b[0m\u001b[0;34m,\u001b[0m \u001b[0mquantity\u001b[0m\u001b[0;34m)\u001b[0m\u001b[0;34m.\u001b[0m\u001b[0mbuildTransaction\u001b[0m\u001b[0;34m(\u001b[0m\u001b[0mtx_params\u001b[0m\u001b[0;34m.\u001b[0m\u001b[0mas_dict\u001b[0m\u001b[0;34m(\u001b[0m\u001b[0;34m)\u001b[0m\u001b[0;34m)\u001b[0m\u001b[0;34m\u001b[0m\u001b[0;34m\u001b[0m\u001b[0m\n\u001b[0m\u001b[1;32m   1254\u001b[0m \u001b[0;34m\u001b[0m\u001b[0m\n\u001b[1;32m   1255\u001b[0m     \u001b[0;32mdef\u001b[0m \u001b[0mestimate_gas\u001b[0m\u001b[0;34m(\u001b[0m\u001b[0mself\u001b[0m\u001b[0;34m,\u001b[0m \u001b[0mlisting_id\u001b[0m\u001b[0;34m:\u001b[0m \u001b[0mint\u001b[0m\u001b[0;34m,\u001b[0m \u001b[0mquantity\u001b[0m\u001b[0;34m:\u001b[0m \u001b[0mint\u001b[0m\u001b[0;34m,\u001b[0m \u001b[0mtx_params\u001b[0m\u001b[0;34m:\u001b[0m \u001b[0mOptional\u001b[0m\u001b[0;34m[\u001b[0m\u001b[0mTxParams\u001b[0m\u001b[0;34m]\u001b[0m \u001b[0;34m=\u001b[0m \u001b[0;32mNone\u001b[0m\u001b[0;34m)\u001b[0m \u001b[0;34m->\u001b[0m \u001b[0mint\u001b[0m\u001b[0;34m:\u001b[0m\u001b[0;34m\u001b[0m\u001b[0;34m\u001b[0m\u001b[0m\n",
      "\u001b[0;32m~/miniforge3/envs/nft/lib/python3.8/site-packages/web3/contract.py\u001b[0m in \u001b[0;36mbuildTransaction\u001b[0;34m(self, transaction)\u001b[0m\n\u001b[1;32m   1079\u001b[0m             )\n\u001b[1;32m   1080\u001b[0m \u001b[0;34m\u001b[0m\u001b[0m\n\u001b[0;32m-> 1081\u001b[0;31m         return build_transaction_for_function(\n\u001b[0m\u001b[1;32m   1082\u001b[0m             \u001b[0mself\u001b[0m\u001b[0;34m.\u001b[0m\u001b[0maddress\u001b[0m\u001b[0;34m,\u001b[0m\u001b[0;34m\u001b[0m\u001b[0;34m\u001b[0m\u001b[0m\n\u001b[1;32m   1083\u001b[0m             \u001b[0mself\u001b[0m\u001b[0;34m.\u001b[0m\u001b[0mweb3\u001b[0m\u001b[0;34m,\u001b[0m\u001b[0;34m\u001b[0m\u001b[0;34m\u001b[0m\u001b[0m\n",
      "\u001b[0;32m~/miniforge3/envs/nft/lib/python3.8/site-packages/web3/contract.py\u001b[0m in \u001b[0;36mbuild_transaction_for_function\u001b[0;34m(address, web3, function_name, transaction, contract_abi, fn_abi, *args, **kwargs)\u001b[0m\n\u001b[1;32m   1648\u001b[0m     )\n\u001b[1;32m   1649\u001b[0m \u001b[0;34m\u001b[0m\u001b[0m\n\u001b[0;32m-> 1650\u001b[0;31m     \u001b[0mprepared_transaction\u001b[0m \u001b[0;34m=\u001b[0m \u001b[0mfill_transaction_defaults\u001b[0m\u001b[0;34m(\u001b[0m\u001b[0mweb3\u001b[0m\u001b[0;34m,\u001b[0m \u001b[0mprepared_transaction\u001b[0m\u001b[0;34m)\u001b[0m\u001b[0;34m\u001b[0m\u001b[0;34m\u001b[0m\u001b[0m\n\u001b[0m\u001b[1;32m   1651\u001b[0m \u001b[0;34m\u001b[0m\u001b[0m\n\u001b[1;32m   1652\u001b[0m     \u001b[0;32mreturn\u001b[0m \u001b[0mprepared_transaction\u001b[0m\u001b[0;34m\u001b[0m\u001b[0;34m\u001b[0m\u001b[0m\n",
      "\u001b[0;32m~/miniforge3/envs/nft/lib/python3.8/site-packages/cytoolz/functoolz.pyx\u001b[0m in \u001b[0;36mcytoolz.functoolz.curry.__call__\u001b[0;34m()\u001b[0m\n",
      "\u001b[0;32m~/miniforge3/envs/nft/lib/python3.8/site-packages/web3/_utils/transactions.py\u001b[0m in \u001b[0;36mfill_transaction_defaults\u001b[0;34m(web3, transaction)\u001b[0m\n\u001b[1;32m    100\u001b[0m             \u001b[0;32mif\u001b[0m \u001b[0mcallable\u001b[0m\u001b[0;34m(\u001b[0m\u001b[0mdefault_getter\u001b[0m\u001b[0;34m)\u001b[0m\u001b[0;34m:\u001b[0m\u001b[0;34m\u001b[0m\u001b[0;34m\u001b[0m\u001b[0m\n\u001b[1;32m    101\u001b[0m                 \u001b[0;32mif\u001b[0m \u001b[0mweb3\u001b[0m \u001b[0;32mis\u001b[0m \u001b[0;32mnot\u001b[0m \u001b[0;32mNone\u001b[0m\u001b[0;34m:\u001b[0m\u001b[0;34m\u001b[0m\u001b[0;34m\u001b[0m\u001b[0m\n\u001b[0;32m--> 102\u001b[0;31m                     \u001b[0mdefault_val\u001b[0m \u001b[0;34m=\u001b[0m \u001b[0mdefault_getter\u001b[0m\u001b[0;34m(\u001b[0m\u001b[0mweb3\u001b[0m\u001b[0;34m,\u001b[0m \u001b[0mtransaction\u001b[0m\u001b[0;34m)\u001b[0m\u001b[0;34m\u001b[0m\u001b[0;34m\u001b[0m\u001b[0m\n\u001b[0m\u001b[1;32m    103\u001b[0m                 \u001b[0;32melse\u001b[0m\u001b[0;34m:\u001b[0m\u001b[0;34m\u001b[0m\u001b[0;34m\u001b[0m\u001b[0m\n\u001b[1;32m    104\u001b[0m                     \u001b[0;32mraise\u001b[0m \u001b[0mValueError\u001b[0m\u001b[0;34m(\u001b[0m\u001b[0;34m\"You must specify %s in the transaction\"\u001b[0m \u001b[0;34m%\u001b[0m \u001b[0mkey\u001b[0m\u001b[0;34m)\u001b[0m\u001b[0;34m\u001b[0m\u001b[0;34m\u001b[0m\u001b[0m\n",
      "\u001b[0;32m~/miniforge3/envs/nft/lib/python3.8/site-packages/web3/_utils/transactions.py\u001b[0m in \u001b[0;36m<lambda>\u001b[0;34m(web3, tx)\u001b[0m\n\u001b[1;32m     64\u001b[0m     \u001b[0;34m'value'\u001b[0m\u001b[0;34m:\u001b[0m \u001b[0;36m0\u001b[0m\u001b[0;34m,\u001b[0m\u001b[0;34m\u001b[0m\u001b[0;34m\u001b[0m\u001b[0m\n\u001b[1;32m     65\u001b[0m     \u001b[0;34m'data'\u001b[0m\u001b[0;34m:\u001b[0m \u001b[0;34mb''\u001b[0m\u001b[0;34m,\u001b[0m\u001b[0;34m\u001b[0m\u001b[0;34m\u001b[0m\u001b[0m\n\u001b[0;32m---> 66\u001b[0;31m     \u001b[0;34m'gas'\u001b[0m\u001b[0;34m:\u001b[0m \u001b[0;32mlambda\u001b[0m \u001b[0mweb3\u001b[0m\u001b[0;34m,\u001b[0m \u001b[0mtx\u001b[0m\u001b[0;34m:\u001b[0m \u001b[0mweb3\u001b[0m\u001b[0;34m.\u001b[0m\u001b[0meth\u001b[0m\u001b[0;34m.\u001b[0m\u001b[0mestimate_gas\u001b[0m\u001b[0;34m(\u001b[0m\u001b[0mtx\u001b[0m\u001b[0;34m)\u001b[0m\u001b[0;34m,\u001b[0m\u001b[0;34m\u001b[0m\u001b[0;34m\u001b[0m\u001b[0m\n\u001b[0m\u001b[1;32m     67\u001b[0m     \u001b[0;34m'gasPrice'\u001b[0m\u001b[0;34m:\u001b[0m \u001b[0;32mlambda\u001b[0m \u001b[0mweb3\u001b[0m\u001b[0;34m,\u001b[0m \u001b[0mtx\u001b[0m\u001b[0;34m:\u001b[0m \u001b[0mweb3\u001b[0m\u001b[0;34m.\u001b[0m\u001b[0meth\u001b[0m\u001b[0;34m.\u001b[0m\u001b[0mgenerate_gas_price\u001b[0m\u001b[0;34m(\u001b[0m\u001b[0mtx\u001b[0m\u001b[0;34m)\u001b[0m \u001b[0;32mor\u001b[0m \u001b[0mweb3\u001b[0m\u001b[0;34m.\u001b[0m\u001b[0meth\u001b[0m\u001b[0;34m.\u001b[0m\u001b[0mgas_price\u001b[0m\u001b[0;34m,\u001b[0m\u001b[0;34m\u001b[0m\u001b[0;34m\u001b[0m\u001b[0m\n\u001b[1;32m     68\u001b[0m     \u001b[0;34m'chainId'\u001b[0m\u001b[0;34m:\u001b[0m \u001b[0;32mlambda\u001b[0m \u001b[0mweb3\u001b[0m\u001b[0;34m,\u001b[0m \u001b[0mtx\u001b[0m\u001b[0;34m:\u001b[0m \u001b[0mweb3\u001b[0m\u001b[0;34m.\u001b[0m\u001b[0meth\u001b[0m\u001b[0;34m.\u001b[0m\u001b[0mchain_id\u001b[0m\u001b[0;34m,\u001b[0m\u001b[0;34m\u001b[0m\u001b[0;34m\u001b[0m\u001b[0m\n",
      "\u001b[0;32m~/miniforge3/envs/nft/lib/python3.8/site-packages/web3/eth.py\u001b[0m in \u001b[0;36mestimate_gas\u001b[0;34m(self, transaction, block_identifier)\u001b[0m\n\u001b[1;32m    733\u001b[0m         \u001b[0mblock_identifier\u001b[0m\u001b[0;34m:\u001b[0m \u001b[0mOptional\u001b[0m\u001b[0;34m[\u001b[0m\u001b[0mBlockIdentifier\u001b[0m\u001b[0;34m]\u001b[0m \u001b[0;34m=\u001b[0m \u001b[0;32mNone\u001b[0m\u001b[0;34m\u001b[0m\u001b[0;34m\u001b[0m\u001b[0m\n\u001b[1;32m    734\u001b[0m     ) -> Wei:\n\u001b[0;32m--> 735\u001b[0;31m         \u001b[0;32mreturn\u001b[0m \u001b[0mself\u001b[0m\u001b[0;34m.\u001b[0m\u001b[0m_estimate_gas\u001b[0m\u001b[0;34m(\u001b[0m\u001b[0mtransaction\u001b[0m\u001b[0;34m,\u001b[0m \u001b[0mblock_identifier\u001b[0m\u001b[0;34m)\u001b[0m\u001b[0;34m\u001b[0m\u001b[0;34m\u001b[0m\u001b[0m\n\u001b[0m\u001b[1;32m    736\u001b[0m \u001b[0;34m\u001b[0m\u001b[0m\n\u001b[1;32m    737\u001b[0m     def fee_history(\n",
      "\u001b[0;32m~/miniforge3/envs/nft/lib/python3.8/site-packages/web3/module.py\u001b[0m in \u001b[0;36mcaller\u001b[0;34m(*args, **kwargs)\u001b[0m\n\u001b[1;32m     55\u001b[0m             \u001b[0;32mreturn\u001b[0m \u001b[0mLogFilter\u001b[0m\u001b[0;34m(\u001b[0m\u001b[0meth_module\u001b[0m\u001b[0;34m=\u001b[0m\u001b[0mmodule\u001b[0m\u001b[0;34m,\u001b[0m \u001b[0mfilter_id\u001b[0m\u001b[0;34m=\u001b[0m\u001b[0merr\u001b[0m\u001b[0;34m.\u001b[0m\u001b[0mfilter_id\u001b[0m\u001b[0;34m)\u001b[0m\u001b[0;34m\u001b[0m\u001b[0;34m\u001b[0m\u001b[0m\n\u001b[1;32m     56\u001b[0m         \u001b[0mresult_formatters\u001b[0m\u001b[0;34m,\u001b[0m \u001b[0merror_formatters\u001b[0m\u001b[0;34m,\u001b[0m \u001b[0mnull_result_formatters\u001b[0m \u001b[0;34m=\u001b[0m \u001b[0mresponse_formatters\u001b[0m\u001b[0;34m\u001b[0m\u001b[0;34m\u001b[0m\u001b[0m\n\u001b[0;32m---> 57\u001b[0;31m         result = w3.manager.request_blocking(method_str,\n\u001b[0m\u001b[1;32m     58\u001b[0m                                              \u001b[0mparams\u001b[0m\u001b[0;34m,\u001b[0m\u001b[0;34m\u001b[0m\u001b[0;34m\u001b[0m\u001b[0m\n\u001b[1;32m     59\u001b[0m                                              \u001b[0merror_formatters\u001b[0m\u001b[0;34m,\u001b[0m\u001b[0;34m\u001b[0m\u001b[0;34m\u001b[0m\u001b[0m\n",
      "\u001b[0;32m~/miniforge3/envs/nft/lib/python3.8/site-packages/web3/manager.py\u001b[0m in \u001b[0;36mrequest_blocking\u001b[0;34m(self, method, params, error_formatters, null_result_formatters)\u001b[0m\n\u001b[1;32m    185\u001b[0m         \"\"\"\n\u001b[1;32m    186\u001b[0m         \u001b[0mresponse\u001b[0m \u001b[0;34m=\u001b[0m \u001b[0mself\u001b[0m\u001b[0;34m.\u001b[0m\u001b[0m_make_request\u001b[0m\u001b[0;34m(\u001b[0m\u001b[0mmethod\u001b[0m\u001b[0;34m,\u001b[0m \u001b[0mparams\u001b[0m\u001b[0;34m)\u001b[0m\u001b[0;34m\u001b[0m\u001b[0;34m\u001b[0m\u001b[0m\n\u001b[0;32m--> 187\u001b[0;31m         return self.formatted_response(response,\n\u001b[0m\u001b[1;32m    188\u001b[0m                                        \u001b[0mparams\u001b[0m\u001b[0;34m,\u001b[0m\u001b[0;34m\u001b[0m\u001b[0;34m\u001b[0m\u001b[0m\n\u001b[1;32m    189\u001b[0m                                        \u001b[0merror_formatters\u001b[0m\u001b[0;34m,\u001b[0m\u001b[0;34m\u001b[0m\u001b[0;34m\u001b[0m\u001b[0m\n",
      "\u001b[0;32m~/miniforge3/envs/nft/lib/python3.8/site-packages/web3/manager.py\u001b[0m in \u001b[0;36mformatted_response\u001b[0;34m(self, response, params, error_formatters, null_result_formatters)\u001b[0m\n\u001b[1;32m    165\u001b[0m     ) -> Any:\n\u001b[1;32m    166\u001b[0m         \u001b[0;32mif\u001b[0m \u001b[0;34m\"error\"\u001b[0m \u001b[0;32min\u001b[0m \u001b[0mresponse\u001b[0m\u001b[0;34m:\u001b[0m\u001b[0;34m\u001b[0m\u001b[0;34m\u001b[0m\u001b[0m\n\u001b[0;32m--> 167\u001b[0;31m             \u001b[0mapply_error_formatters\u001b[0m\u001b[0;34m(\u001b[0m\u001b[0merror_formatters\u001b[0m\u001b[0;34m,\u001b[0m \u001b[0mresponse\u001b[0m\u001b[0;34m)\u001b[0m\u001b[0;34m\u001b[0m\u001b[0;34m\u001b[0m\u001b[0m\n\u001b[0m\u001b[1;32m    168\u001b[0m             \u001b[0;32mraise\u001b[0m \u001b[0mValueError\u001b[0m\u001b[0;34m(\u001b[0m\u001b[0mresponse\u001b[0m\u001b[0;34m[\u001b[0m\u001b[0;34m\"error\"\u001b[0m\u001b[0;34m]\u001b[0m\u001b[0;34m)\u001b[0m\u001b[0;34m\u001b[0m\u001b[0;34m\u001b[0m\u001b[0m\n\u001b[1;32m    169\u001b[0m         \u001b[0;32melif\u001b[0m \u001b[0mresponse\u001b[0m\u001b[0;34m[\u001b[0m\u001b[0;34m'result'\u001b[0m\u001b[0;34m]\u001b[0m \u001b[0;32min\u001b[0m \u001b[0mNULL_RESPONSES\u001b[0m\u001b[0;34m:\u001b[0m\u001b[0;34m\u001b[0m\u001b[0;34m\u001b[0m\u001b[0m\n",
      "\u001b[0;32m~/miniforge3/envs/nft/lib/python3.8/site-packages/web3/manager.py\u001b[0m in \u001b[0;36mapply_error_formatters\u001b[0;34m(error_formatters, response)\u001b[0m\n\u001b[1;32m     65\u001b[0m ) -> RPCResponse:\n\u001b[1;32m     66\u001b[0m     \u001b[0;32mif\u001b[0m \u001b[0merror_formatters\u001b[0m\u001b[0;34m:\u001b[0m\u001b[0;34m\u001b[0m\u001b[0;34m\u001b[0m\u001b[0m\n\u001b[0;32m---> 67\u001b[0;31m         \u001b[0mformatted_resp\u001b[0m \u001b[0;34m=\u001b[0m \u001b[0mpipe\u001b[0m\u001b[0;34m(\u001b[0m\u001b[0mresponse\u001b[0m\u001b[0;34m,\u001b[0m \u001b[0merror_formatters\u001b[0m\u001b[0;34m)\u001b[0m\u001b[0;34m\u001b[0m\u001b[0;34m\u001b[0m\u001b[0m\n\u001b[0m\u001b[1;32m     68\u001b[0m         \u001b[0;32mreturn\u001b[0m \u001b[0mformatted_resp\u001b[0m\u001b[0;34m\u001b[0m\u001b[0;34m\u001b[0m\u001b[0m\n\u001b[1;32m     69\u001b[0m     \u001b[0;32melse\u001b[0m\u001b[0;34m:\u001b[0m\u001b[0;34m\u001b[0m\u001b[0;34m\u001b[0m\u001b[0m\n",
      "\u001b[0;32m~/miniforge3/envs/nft/lib/python3.8/site-packages/cytoolz/functoolz.pyx\u001b[0m in \u001b[0;36mcytoolz.functoolz.pipe\u001b[0;34m()\u001b[0m\n",
      "\u001b[0;32m~/miniforge3/envs/nft/lib/python3.8/site-packages/cytoolz/functoolz.pyx\u001b[0m in \u001b[0;36mcytoolz.functoolz.c_pipe\u001b[0;34m()\u001b[0m\n",
      "\u001b[0;32m~/miniforge3/envs/nft/lib/python3.8/site-packages/web3/_utils/method_formatters.py\u001b[0m in \u001b[0;36mraise_solidity_error_on_revert\u001b[0;34m(response)\u001b[0m\n\u001b[1;32m    567\u001b[0m     \u001b[0;31m# Geth case:\u001b[0m\u001b[0;34m\u001b[0m\u001b[0;34m\u001b[0m\u001b[0;34m\u001b[0m\u001b[0m\n\u001b[1;32m    568\u001b[0m     \u001b[0;32mif\u001b[0m \u001b[0;34m'message'\u001b[0m \u001b[0;32min\u001b[0m \u001b[0mresponse\u001b[0m\u001b[0;34m[\u001b[0m\u001b[0;34m'error'\u001b[0m\u001b[0;34m]\u001b[0m \u001b[0;32mand\u001b[0m \u001b[0mresponse\u001b[0m\u001b[0;34m[\u001b[0m\u001b[0;34m'error'\u001b[0m\u001b[0;34m]\u001b[0m\u001b[0;34m.\u001b[0m\u001b[0mget\u001b[0m\u001b[0;34m(\u001b[0m\u001b[0;34m'code'\u001b[0m\u001b[0;34m,\u001b[0m \u001b[0;34m''\u001b[0m\u001b[0;34m)\u001b[0m \u001b[0;34m==\u001b[0m \u001b[0;36m3\u001b[0m\u001b[0;34m:\u001b[0m\u001b[0;34m\u001b[0m\u001b[0;34m\u001b[0m\u001b[0m\n\u001b[0;32m--> 569\u001b[0;31m         \u001b[0;32mraise\u001b[0m \u001b[0mContractLogicError\u001b[0m\u001b[0;34m(\u001b[0m\u001b[0mresponse\u001b[0m\u001b[0;34m[\u001b[0m\u001b[0;34m'error'\u001b[0m\u001b[0;34m]\u001b[0m\u001b[0;34m[\u001b[0m\u001b[0;34m'message'\u001b[0m\u001b[0;34m]\u001b[0m\u001b[0;34m)\u001b[0m\u001b[0;34m\u001b[0m\u001b[0;34m\u001b[0m\u001b[0m\n\u001b[0m\u001b[1;32m    570\u001b[0m \u001b[0;34m\u001b[0m\u001b[0m\n\u001b[1;32m    571\u001b[0m     \u001b[0;31m# Geth Revert without error message case:\u001b[0m\u001b[0;34m\u001b[0m\u001b[0;34m\u001b[0m\u001b[0;34m\u001b[0m\u001b[0m\n",
      "\u001b[0;31mContractLogicError\u001b[0m: execution reverted: Market: Cannot unlist more than one of an ERC 721 NFT."
     ]
    }
   ],
   "source": [
    "#unlist all nfts from market place\n",
    "asset_id = 1\n",
    "market_module.unlist_all(asset_id)"
   ]
  },
  {
   "cell_type": "code",
   "execution_count": null,
   "metadata": {},
   "outputs": [],
   "source": [
    "# roles functions for each module"
   ]
  }
 ],
 "metadata": {
  "interpreter": {
   "hash": "a2d3aaee4560012b18958894f21c6dab05acf2cbe4b1b644ee955ae7df40fd79"
  },
  "kernelspec": {
   "display_name": "Python 3.8.12 64-bit ('nft': conda)",
   "language": "python",
   "name": "python3"
  },
  "language_info": {
   "codemirror_mode": {
    "name": "ipython",
    "version": 3
   },
   "file_extension": ".py",
   "mimetype": "text/x-python",
   "name": "python",
   "nbconvert_exporter": "python",
   "pygments_lexer": "ipython3",
   "version": "3.8.12"
  },
  "orig_nbformat": 4
 },
 "nbformat": 4,
 "nbformat_minor": 2
}
