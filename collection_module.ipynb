{
 "cells": [
  {
   "cell_type": "code",
   "execution_count": 7,
   "metadata": {},
   "outputs": [],
   "source": [
    "# Importing stuff\n",
    "from thirdweb import ThirdwebSdk, SdkOptions, ListArg, MintArg\n",
    "import os"
   ]
  },
  {
   "cell_type": "code",
   "execution_count": 8,
   "metadata": {},
   "outputs": [],
   "source": [
    "#choose your network\n",
    "\n",
    "network = \"https://rinkeby-light.eth.linkpool.io/\"\n",
    "sdk = ThirdwebSdk(SdkOptions(), network)\n",
    "#dont forget to hide your private key\n",
    "sdk.set_private_key(\"a0064ca30a15d338590d95fc7d1e87f889d11fe31897340b391674e84d49f1ee\")"
   ]
  },
  {
   "cell_type": "code",
   "execution_count": 9,
   "metadata": {},
   "outputs": [],
   "source": [
    "#pick your module and enter the smart contract address\n",
    "collection_module_address = \"0xbb91Fa16F44200a5d7e813De3Dc9c98fDC9E1d14\"\n",
    "collection_module = sdk.get_collection_module(collection_module_address)"
   ]
  },
  {
   "cell_type": "code",
   "execution_count": 10,
   "metadata": {},
   "outputs": [
    {
     "name": "stdout",
     "output_type": "stream",
     "text": [
      "10\n"
     ]
    }
   ],
   "source": [
    "#This method prints out the balance of your nft smartcontract\n",
    "#The amount returend is the amount of nft's that this contract is holding!\n",
    "print(collection_module.balance(0))"
   ]
  }
 ],
 "metadata": {
  "interpreter": {
   "hash": "a2d3aaee4560012b18958894f21c6dab05acf2cbe4b1b644ee955ae7df40fd79"
  },
  "kernelspec": {
   "display_name": "Python 3.8.12 64-bit ('nft': conda)",
   "language": "python",
   "name": "python3"
  },
  "language_info": {
   "codemirror_mode": {
    "name": "ipython",
    "version": 3
   },
   "file_extension": ".py",
   "mimetype": "text/x-python",
   "name": "python",
   "nbconvert_exporter": "python",
   "pygments_lexer": "ipython3",
   "version": "3.8.12"
  },
  "orig_nbformat": 4
 },
 "nbformat": 4,
 "nbformat_minor": 2
}
